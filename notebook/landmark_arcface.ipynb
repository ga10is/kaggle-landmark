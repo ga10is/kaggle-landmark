{
  "nbformat": 4,
  "nbformat_minor": 0,
  "metadata": {
    "colab": {
      "name": "landmark_arcface.ipynb",
      "version": "0.3.2",
      "provenance": [],
      "collapsed_sections": [
        "FMjYTvhlLpwB",
        "V6o7V7DKDAsl",
        "Iny_-XckgI5s",
        "17SUiMiNDstc"
      ]
    },
    "kernelspec": {
      "name": "python3",
      "display_name": "Python 3"
    },
    "accelerator": "GPU"
  },
  "cells": [
    {
      "metadata": {
        "id": "Viwm7MTHOG-x",
        "colab_type": "code",
        "outputId": "cad00aab-a012-4c05-aa56-ecbcd90208a8",
        "colab": {
          "base_uri": "https://localhost:8080/",
          "height": 55
        }
      },
      "cell_type": "code",
      "source": [
        "from google.colab import drive\n",
        "drive.mount('/gdrive')"
      ],
      "execution_count": 25,
      "outputs": [
        {
          "output_type": "stream",
          "text": [
            "Drive already mounted at /gdrive; to attempt to forcibly remount, call drive.mount(\"/gdrive\", force_remount=True).\n"
          ],
          "name": "stdout"
        }
      ]
    },
    {
      "metadata": {
        "id": "BHvf6kqSOdzJ",
        "colab_type": "code",
        "outputId": "53c2cdfa-b3b5-457f-d1ab-b7414d0560fe",
        "colab": {
          "base_uri": "https://localhost:8080/",
          "height": 35
        }
      },
      "cell_type": "code",
      "source": [
        "%cd \"/gdrive/My Drive\""
      ],
      "execution_count": 26,
      "outputs": [
        {
          "output_type": "stream",
          "text": [
            "/gdrive/My Drive\n"
          ],
          "name": "stdout"
        }
      ]
    },
    {
      "metadata": {
        "id": "5wCSnlo3N4Y7",
        "colab_type": "code",
        "colab": {}
      },
      "cell_type": "code",
      "source": [
        "%matplotlib inline\n",
        "import matplotlib.pyplot as plt\n",
        "import numpy as np\n",
        "import pandas as pd\n",
        "\n",
        "from tqdm import tqdm\n",
        "import joblib"
      ],
      "execution_count": 0,
      "outputs": []
    },
    {
      "metadata": {
        "id": "WlhACLidNimS",
        "colab_type": "code",
        "colab": {}
      },
      "cell_type": "code",
      "source": [
        "IMG_SIZE = (256, 256)\n",
        "INPUT_SIZE = (224, 224)\n",
        "INPUT = 'analysis/landmark/data/raw/'\n",
        "INDEX_PATH = INPUT + 'index.csv'\n",
        "TRAIN_PATH = INPUT + 'train.csv'\n",
        "TEST_PATH = INPUT + 'test.csv'\n",
        "SUBMIT_PATH = INPUT + 'recognition_sample_submission.csv'\n",
        "TRAIN_IMG_PATH = INPUT + 'train/'\n",
        "TEST_IMG_PATH = INPUT + 'test/'\n",
        "INDEX_IMG_PATH = INPUT + 'index/'"
      ],
      "execution_count": 0,
      "outputs": []
    },
    {
      "metadata": {
        "id": "FMjYTvhlLpwB",
        "colab_type": "text"
      },
      "cell_type": "markdown",
      "source": [
        "## utility"
      ]
    },
    {
      "metadata": {
        "id": "BkejDHUXLsj3",
        "colab_type": "code",
        "colab": {}
      },
      "cell_type": "code",
      "source": [
        "def debug_deco(func):\n",
        "    def wrapper(*args, **kwargs):\n",
        "        print('--start--')\n",
        "        from IPython.core.debugger import Pdb; Pdb().set_trace()\n",
        "        func(*args, **kwargs)\n",
        "        print('--end--')\n",
        "    return wrapper\n",
        "\n",
        "from sklearn.model_selection import StratifiedKFold, KFold\n",
        "\n",
        "def split_train_valid(df, y, n_splits):    \n",
        "    # fold = StratifiedKFold(n_splits=n_splits, random_state=2019, shuffle=True)\n",
        "    fold = KFold(n_splits=n_splits, random_state=2019, shuffle=True)\n",
        "    # ignore y if KFold\n",
        "    iter_fold = fold.split(df, y)\n",
        "    idx_train, idx_valid = next(iter_fold)\n",
        "    df_train = df.iloc[idx_train]\n",
        "    df_valid = df.iloc[idx_valid]\n",
        "    \n",
        "    return df_train, df_valid"
      ],
      "execution_count": 0,
      "outputs": []
    },
    {
      "metadata": {
        "id": "V6o7V7DKDAsl",
        "colab_type": "text"
      },
      "cell_type": "markdown",
      "source": [
        "## logging"
      ]
    },
    {
      "metadata": {
        "id": "3xVYg7fADCcP",
        "colab_type": "code",
        "colab": {}
      },
      "cell_type": "code",
      "source": [
        "import logging\n",
        "\n",
        "def create_logger(log_file_name):\n",
        "    logger_ = logging.getLogger('main')\n",
        "    logger_.setLevel(logging.DEBUG)\n",
        "    #fh = logging.FileHandler('whale.log')\n",
        "    fh = logging.handlers.RotatingFileHandler(log_file_name, maxBytes=100000, backupCount=8)\n",
        "    fh.setLevel(logging.DEBUG)\n",
        "    ch = logging.StreamHandler()\n",
        "    ch.setLevel(logging.DEBUG)\n",
        "    formatter = logging.Formatter('[%(levelname)s]%(asctime)s:%(name)s:%(message)s')\n",
        "    fh.setFormatter(formatter)\n",
        "    ch.setFormatter(formatter)\n",
        "    # add the handlers to the logger\n",
        "    logger_.addHandler(fh)\n",
        "    logger_.addHandler(ch)\n",
        "\n",
        "\n",
        "def get_logger():\n",
        "    return logging.getLogger('main')\n",
        "\n",
        "create_logger('landmark.log')"
      ],
      "execution_count": 0,
      "outputs": []
    },
    {
      "metadata": {
        "id": "Iny_-XckgI5s",
        "colab_type": "text"
      },
      "cell_type": "markdown",
      "source": [
        "## preprocessing"
      ]
    },
    {
      "metadata": {
        "id": "uq2rJ-E6gRuD",
        "colab_type": "code",
        "colab": {}
      },
      "cell_type": "code",
      "source": [
        "import os \n",
        "from concurrent.futures import ProcessPoolExecutor\n",
        "\n",
        "def get_exist_image(_df, _image_folder):\n",
        "    \"\"\"\n",
        "    create dataframe of exist images in folder\n",
        "    \"\"\"\n",
        "    exist_images = get_image_ids(_image_folder)\n",
        "    df_exist = _df[_df['id'].isin(exist_images)]\n",
        "    print('exist images: %d' % len(df_exist))\n",
        "    return df_exist\n",
        "\n",
        "def assert_exist_image(df, image_folder):\n",
        "    exist_images = set(get_image_ids(image_folder))\n",
        "    df_image = set(df['id'].values)\n",
        "    print(len(exist_images))\n",
        "    print(len(df_image))\n",
        "    assert (exist_images == df_image), 'There are not all images in the \"image_folder\"'\n",
        "\n",
        "\n",
        "def get_image_ids_from_subdir(_dir_path, _sub_dir):\n",
        "    sub_dir_path = os.path.join(_dir_path, _sub_dir)\n",
        "    image_ids = [image_file.split('.')[0] for image_file in os.listdir(sub_dir_path)]\n",
        "    return image_ids\n",
        "\n",
        "\n",
        "def get_image_ids(dir_path):\n",
        "    result = []\n",
        "    with ProcessPoolExecutor(max_workers=4) as executor:\n",
        "        futures = []\n",
        "        for sub_dir in os.listdir(dir_path):\n",
        "            futures.append(\n",
        "                executor.submit(get_image_ids_from_subdir, dir_path, sub_dir))\n",
        "\n",
        "        for future in tqdm(futures):\n",
        "            result.extend(future.result())\n",
        "    return result\n",
        "\n",
        "\n",
        "import shutil\n",
        "\n",
        "\n",
        "def move_to_folder(dir_path):\n",
        "    for file in tqdm(os.listdir(dir_path)):\n",
        "        if(file[-4:] == '.jpg'):\n",
        "            # move image\n",
        "            sub_dir = file[0:2]\n",
        "            sub_dir_path = os.path.join(dir_path, sub_dir)\n",
        "            old_path = os.path.join(dir_path, file)\n",
        "            new_path = os.path.join(dir_path, sub_dir, file)\n",
        "            \n",
        "            os.makedirs(sub_dir_path, exist_ok=True)\n",
        "            \n",
        "            shutil.move(old_path, new_path)\n",
        "        else:\n",
        "            print('There is a file which is not image: %s' % file)\n",
        "            \n",
        "\n",
        "def init_le(_df):\n",
        "    ids = _df['landmark_id'].values.tolist()\n",
        "    le = LabelEncoder()\n",
        "    le.fit(ids)\n",
        "    return le"
      ],
      "execution_count": 0,
      "outputs": []
    },
    {
      "metadata": {
        "id": "Uo7DwF98rCOQ",
        "colab_type": "code",
        "colab": {}
      },
      "cell_type": "code",
      "source": [
        "# move_to_folder(TEST_IMG_PATH)"
      ],
      "execution_count": 0,
      "outputs": []
    },
    {
      "metadata": {
        "id": "nG4BvN4HDGcf",
        "colab_type": "text"
      },
      "cell_type": "markdown",
      "source": [
        "## nn"
      ]
    },
    {
      "metadata": {
        "id": "rPsB83a0AHUO",
        "colab_type": "code",
        "colab": {}
      },
      "cell_type": "code",
      "source": [
        "import torch\n",
        "import torch.nn as nn\n",
        "import torch.nn.functional as F\n",
        "from torch import optim\n",
        "import torchvision\n",
        "import torchvision.transforms as transforms\n",
        "\n",
        "def imshow(img):\n",
        "    #print(type(img))\n",
        "    img = img * 0.23 + 0.5     # unnormalize\n",
        "    npimg = img.numpy()\n",
        "    #print(npimg.shape)\n",
        "    plt.imshow(np.transpose(npimg, (1, 2, 0)))\n",
        "\n",
        "def save_checkpoint(state, is_best, fpath='checkpoint.pth'):\n",
        "    torch.save(state, fpath)\n",
        "    if is_best:\n",
        "        torch.save(state, 'best_model.pth')\n",
        "        \n",
        "def load_checkpoint(_model, \n",
        "                    _metric_fc,\n",
        "                    _optimizer, \n",
        "                    _scheduler, \n",
        "                    fpath):\n",
        "    checkpoint = torch.load(fpath)\n",
        "    _epoch = checkpoint['epoch']\n",
        "    _model.load_state_dict(checkpoint['state_dict'])\n",
        "    _metric_fc.load_state_dict(checkpoint['metric_fc'])\n",
        "    _optimizer.load_state_dict(checkpoint['optimizer'])\n",
        "    _scheduler.load_state_dict(checkpoint['scheduler'])\n",
        "    \n",
        "    return _epoch, _model, _metric_fc, _optimizer, _scheduler"
      ],
      "execution_count": 0,
      "outputs": []
    },
    {
      "metadata": {
        "id": "cNimEgEnBu-j",
        "colab_type": "code",
        "colab": {}
      },
      "cell_type": "code",
      "source": [
        "trn_trnsfms = transforms.Compose([\n",
        "    transforms.Resize(IMG_SIZE),\n",
        "    transforms.RandomCrop(INPUT_SIZE),\n",
        "    transforms.RandomHorizontalFlip(),\n",
        "    transforms.ToTensor(),\n",
        "    transforms.Normalize(\n",
        "        mean=[0.485, 0.456, 0.406],\n",
        "        std=[0.229, 0.224, 0.225]\n",
        "    )\n",
        "])\n",
        "\n",
        "tst_trnsfms = transforms.Compose([\n",
        "    transforms.Resize(IMG_SIZE),\n",
        "    transforms.CenterCrop(INPUT_SIZE),\n",
        "    transforms.ToTensor(),\n",
        "    transforms.Normalize(\n",
        "        mean=[0.485, 0.456, 0.406],\n",
        "        std=[0.229, 0.224, 0.225]\n",
        "    )\n",
        "])"
      ],
      "execution_count": 0,
      "outputs": []
    },
    {
      "metadata": {
        "id": "4-glVaazC0kX",
        "colab_type": "code",
        "colab": {}
      },
      "cell_type": "code",
      "source": [
        "class ResNet(nn.Module):\n",
        "    def __init__(self, output_neurons, n_classes, dropout_rate):\n",
        "        super(ResNet, self).__init__()\n",
        "        self.resnet = torchvision.models.resnet50(pretrained=True)        \n",
        "        # self.resnet = torchvision.models.resnet34(pretrained=True)        \n",
        "        # self.resnet = torchvision.models.resnet18(pretrained=True)\n",
        "        n_out_channels = 512 * 4  # resnet18, 34: 512, resnet50: 512*4\n",
        "        self.norm1 = nn.BatchNorm1d(n_out_channels)\n",
        "        self.drop1 = nn.Dropout(dropout_rate)\n",
        "        # FC        \n",
        "        self.fc = nn.Linear(n_out_channels, output_neurons)\n",
        "        self.norm2 = nn.BatchNorm1d(output_neurons)\n",
        "        \n",
        "    def forward(self, x):\n",
        "        x = self.resnet.conv1(x)\n",
        "        x = self.resnet.bn1(x)\n",
        "        x = self.resnet.relu(x)\n",
        "        x = self.resnet.maxpool(x)\n",
        "\n",
        "        x = self.resnet.layer1(x)\n",
        "        x = self.resnet.layer2(x)\n",
        "        x = self.resnet.layer3(x)\n",
        "        x = self.resnet.layer4(x)\n",
        "        # GAP\n",
        "        x = F.adaptive_avg_pool2d(x, (1, 1))\n",
        "        x = x.view(x.size(0), -1)\n",
        "        x = self.norm1(x)\n",
        "        x = self.drop1(x)\n",
        "        # FC\n",
        "        x = self.fc(x)\n",
        "        x = self.norm2(x)\n",
        "        #x = l2_norm(x)\n",
        "        return x\n",
        "    \n",
        "class DenseNet(nn.Module):\n",
        "    def __init__(self, output_neurons, n_classes, dropout_rate):\n",
        "        super(DenseNet, self).__init__()\n",
        "        self.densenet_features = torchvision.models.densenet121(pretrained=True).features\n",
        "        self.norm1 = nn.BatchNorm1d(1024)\n",
        "        self.drop1 = nn.Dropout(dropout_rate)\n",
        "        self.fc = nn.Linear(1024, output_neurons)\n",
        "        self.norm2 = nn.BatchNorm1d(output_neurons)\n",
        "        \n",
        "    def forward(self, x):\n",
        "        features = self.densenet_features(x)\n",
        "        x = F.relu(features, inplace=True)\n",
        "        # GAP\n",
        "        x = F.adaptive_avg_pool2d(x, (1, 1)).view(features.size(0), -1)\n",
        "        x = self.norm1(x)\n",
        "        x = self.drop1(x)\n",
        "        # FC\n",
        "        x = self.fc(x)\n",
        "        x = self.norm2(x)\n",
        "        return x"
      ],
      "execution_count": 0,
      "outputs": []
    },
    {
      "metadata": {
        "id": "O20ikHNLDZzK",
        "colab_type": "code",
        "colab": {}
      },
      "cell_type": "code",
      "source": [
        "from __future__ import print_function\n",
        "from __future__ import division\n",
        "import torch\n",
        "import torch.nn as nn\n",
        "import torch.nn.functional as F\n",
        "from torch.nn import Parameter\n",
        "import math\n",
        "\n",
        "\n",
        "class ArcMarginProduct(nn.Module):\n",
        "    r\"\"\"Implement of large margin arc distance: :\n",
        "        Args:\n",
        "            in_features: size of each input sample\n",
        "            out_features: size of each output sample\n",
        "            s: norm of input feature\n",
        "            m: margin\n",
        "\n",
        "            cos(theta + m)\n",
        "        \"\"\"\n",
        "    def __init__(self, in_features, out_features, s=30.0, m=0.50, easy_margin=False):\n",
        "        super(ArcMarginProduct, self).__init__()\n",
        "        self.in_features = in_features\n",
        "        self.out_features = out_features\n",
        "        self.s = s\n",
        "        self.m = m\n",
        "        self.weight = Parameter(torch.FloatTensor(out_features, in_features))\n",
        "        nn.init.xavier_uniform_(self.weight)\n",
        "\n",
        "        self.easy_margin = easy_margin\n",
        "        self.cos_m = math.cos(m)\n",
        "        self.sin_m = math.sin(m)\n",
        "        self.th = math.cos(math.pi - m)\n",
        "        self.mm = math.sin(math.pi - m) * m\n",
        "\n",
        "    def forward(self, input, label=None):\n",
        "        # --------------------------- cos(theta) & phi(theta) ---------------------------\n",
        "        cosine = F.linear(F.normalize(input), F.normalize(self.weight))\n",
        "        if label is None:\n",
        "            return cosine\n",
        "        \n",
        "        sine = torch.sqrt(1.0 - torch.pow(cosine, 2))\n",
        "        phi = cosine * self.cos_m - sine * self.sin_m\n",
        "        if self.easy_margin:\n",
        "            phi = torch.where(cosine > 0, phi, cosine)\n",
        "        else:\n",
        "            phi = torch.where(cosine > self.th, phi, cosine - self.mm)\n",
        "        # --------------------------- convert label to one-hot ---------------------------\n",
        "        # one_hot = torch.zeros(cosine.size(), requires_grad=True, device='cuda')\n",
        "        one_hot = torch.zeros(cosine.size(), device='cuda')\n",
        "        one_hot.scatter_(1, label.view(-1, 1).long(), 1)\n",
        "        # -------------torch.where(out_i = {x_i if condition_i else y_i) -------------\n",
        "        output = (one_hot * phi) + ((1.0 - one_hot) * cosine)  # you can use torch.where if your torch.__version__ is 0.4\n",
        "        output *= self.s\n",
        "        #print(output[0])\n",
        "\n",
        "        return output\n",
        "\n",
        "\n",
        "class FocalBinaryLoss(nn.Module):\n",
        "    def __init__(self, gamma=0):\n",
        "        super(FocalBinaryLoss, self).__init__()\n",
        "        self.gamma = gamma\n",
        "        \n",
        "    def forward(self, input, target):\n",
        "        p = torch.sigmoid(input)        \n",
        "        loss = torch.mean(-1 * target * torch.pow(1-p, self.gamma) * torch.log(p + 1e-10) +\n",
        "                          -1 * (1-target) * torch.pow(p, self.gamma) * torch.log(1-p + 1e-10)) * 4\n",
        "        return loss\n",
        "    \n",
        "class FocalLoss(nn.Module):\n",
        "    def __init__(self, gamma=0, eps=1e-7):\n",
        "        super(FocalLoss, self).__init__()\n",
        "        self.gamma = gamma\n",
        "        self.eps = eps\n",
        "        self.ce = torch.nn.CrossEntropyLoss()\n",
        "\n",
        "    def forward(self, input, target):\n",
        "        logp = self.ce(input, target)\n",
        "        p = torch.exp(-logp)\n",
        "        loss = (1 - p) ** self.gamma * logp\n",
        "        return loss.mean()"
      ],
      "execution_count": 0,
      "outputs": []
    },
    {
      "metadata": {
        "id": "17SUiMiNDstc",
        "colab_type": "text"
      },
      "cell_type": "markdown",
      "source": [
        "## dataset"
      ]
    },
    {
      "metadata": {
        "id": "LVGsNqjGDvXh",
        "colab_type": "code",
        "colab": {}
      },
      "cell_type": "code",
      "source": [
        "from PIL import Image\n",
        "import cv2\n",
        "from sklearn.preprocessing import LabelEncoder\n",
        "from torch.utils.data import DataLoader,Dataset\n",
        "\n",
        "class LandmarkDataset(Dataset):\n",
        "    def __init__(self, image_folder, df, transform, is_train, le=None):\n",
        "        self.image_folder = image_folder  \n",
        "        self.transform = transform      \n",
        "        self.df = df\n",
        "        self.is_train = is_train\n",
        "        if is_train:\n",
        "            if le is None:\n",
        "                raise ValueError(\n",
        "                    'Argument \"le\" must not be None when \"is_train\" is True.')\n",
        "            self.le = le\n",
        "    \n",
        "    def __len__(self):\n",
        "        return self.df.shape[0]\n",
        "    \n",
        "    def __getitem__(self, idx):\n",
        "        img_name = '%s.jpg' % self.df.iloc[idx]['id']                   \n",
        "        img = self.__get_image(img_name)\n",
        "        label = None\n",
        "        if self.is_train:\n",
        "            id = self.df.iloc[idx]['landmark_id']\n",
        "            label = torch.tensor(self.le.transform([id]))\n",
        "        else:\n",
        "            label = -1\n",
        "        return img, label\n",
        "    \n",
        "    def __get_image(self, img_name):           \n",
        "        img = self.__load_image(img_name)\n",
        "        img = self.transform(img)\n",
        "        return img\n",
        "\n",
        "    def __load_image(self, img_name):\n",
        "        \"\"\"\n",
        "        load images and bound boxing\n",
        "        \"\"\"\n",
        "        sub_folder = img_name[0:2]\n",
        "        path = os.path.join(self.image_folder, sub_folder, img_name)\n",
        "        # load images\n",
        "        img = Image.open(path).convert('RGB')               \n",
        "        return img"
      ],
      "execution_count": 0,
      "outputs": []
    },
    {
      "metadata": {
        "id": "b5BNMPbCDwod",
        "colab_type": "text"
      },
      "cell_type": "markdown",
      "source": [
        "## metrics"
      ]
    },
    {
      "metadata": {
        "id": "4uWRFkm3DwlJ",
        "colab_type": "code",
        "colab": {}
      },
      "cell_type": "code",
      "source": [
        "def GAP_vector(pred, conf, true, return_x=False):\n",
        "    '''\n",
        "    Compute Global Average Precision (aka micro AP), the metric for the\n",
        "    Google Landmark Recognition competition.\n",
        "    This function takes predictions, labels and confidence scores as vectors.\n",
        "    In both predictions and ground-truth, use None/np.nan for \"no label\".\n",
        "\n",
        "    Args:\n",
        "        pred: vector of integer-coded predictions\n",
        "        conf: vector of probability or confidence scores for pred\n",
        "        true: vector of integer-coded labels for ground truth\n",
        "        return_x: also return the data frame used in the calculation\n",
        "\n",
        "    Returns:\n",
        "        GAP score\n",
        "    '''\n",
        "    x = pd.DataFrame({'pred': pred, 'conf': conf, 'true': true})\n",
        "    x.sort_values('conf', ascending=False, inplace=True, na_position='last')\n",
        "    x['correct'] = (x.true == x.pred).astype(int)\n",
        "    x['prec_k'] = x.correct.cumsum() / (np.arange(len(x)) + 1)\n",
        "    x['term'] = x.prec_k * x.correct\n",
        "    gap = x.term.sum() / x.true.count()\n",
        "    if return_x:\n",
        "        return gap, x\n",
        "    else:\n",
        "        return gap\n",
        "\n",
        "class AverageMeter(object):\n",
        "    \"\"\"Computes and stores the average and current value\"\"\"\n",
        "    def __init__(self):\n",
        "        self.reset()\n",
        "\n",
        "    def reset(self):\n",
        "        self.val = 0\n",
        "        self.avg = 0\n",
        "        self.sum = 0\n",
        "        self.count = 0\n",
        "\n",
        "    def update(self, val, n=1):\n",
        "        self.val = val\n",
        "        self.sum += val * n\n",
        "        self.count += n\n",
        "        self.avg = self.sum / self.count\n",
        "        \n",
        "def accuracy(output, target, topk=(1,)):\n",
        "    \"\"\"Computes the precision@k for the specified values of k\"\"\"\n",
        "    maxk = max(topk)\n",
        "    batch_size = target.size(0)\n",
        "    \n",
        "    _, pred = output.topk(maxk, 1, True, True)\n",
        "    pred = pred.t()\n",
        "    correct = pred.eq(target.view(1, -1).expand_as(pred))\n",
        "\n",
        "    res = []\n",
        "    for k in topk:\n",
        "        correct_k = correct[:k].view(-1).float().sum(0, keepdim=True)\n",
        "        res.append(correct_k.mul_(100.0 / batch_size))\n",
        "    return res"
      ],
      "execution_count": 0,
      "outputs": []
    },
    {
      "metadata": {
        "id": "kvtCrJb3lF29",
        "colab_type": "code",
        "outputId": "647cda91-1d98-4f82-8de0-f21af2278d1b",
        "colab": {
          "base_uri": "https://localhost:8080/",
          "height": 55
        }
      },
      "cell_type": "code",
      "source": [
        "'''\n",
        "a = torch.Tensor([\n",
        "    [0.1, 0.3, 0.2],\n",
        "    [0.2, 0.4, 0.5],\n",
        "    [2, 3, 4],\n",
        "    [3, 1, 6]\n",
        "])\n",
        "print(a.size())\n",
        "label = torch.Tensor([1, 1, 1, 1]).long()\n",
        "accuracy(a, label, topk=(1, 2))\n",
        "'''"
      ],
      "execution_count": 39,
      "outputs": [
        {
          "output_type": "execute_result",
          "data": {
            "text/plain": [
              "'\\na = torch.Tensor([\\n    [0.1, 0.3, 0.2],\\n    [0.2, 0.4, 0.5],\\n    [2, 3, 4],\\n    [3, 1, 6]\\n])\\nprint(a.size())\\nlabel = torch.Tensor([1, 1, 1, 1]).long()\\naccuracy(a, label, topk=(1, 2))\\n'"
            ]
          },
          "metadata": {
            "tags": []
          },
          "execution_count": 39
        }
      ]
    },
    {
      "metadata": {
        "id": "ngFQKdh_DwjX",
        "colab_type": "text"
      },
      "cell_type": "markdown",
      "source": [
        "## train_valid"
      ]
    },
    {
      "metadata": {
        "id": "srPw7PReDwgm",
        "colab_type": "code",
        "colab": {}
      },
      "cell_type": "code",
      "source": [
        "def train(epoch, \n",
        "          model,\n",
        "          loader,\n",
        "          metric_fc,\n",
        "          criterion,\n",
        "          optimizer):\n",
        "    loss_meter = AverageMeter()\n",
        "    top1 = AverageMeter()\n",
        "    top5 = AverageMeter()\n",
        "    \n",
        "    get_logger().info('[Start] epoch: %d' % epoch)\n",
        "    get_logger().info('lr: %f' % optimizer.state_dict()['param_groups'][0]['lr'])\n",
        "        \n",
        "    # train phase\n",
        "    model.train()\n",
        "    for i, data in enumerate(tqdm(loader)):\n",
        "        img, label = data                \n",
        "        img, label = img.cuda(), label.cuda().long()        \n",
        "        #label = label.squeeze() # (batch_size, 1) -> (batch_size,)\n",
        "        optimizer.zero_grad()\n",
        "        with torch.set_grad_enabled(True):\n",
        "            # forward                      \n",
        "            emb_vec = model(img)\n",
        "            if isinstance(metric_fc, ArcMarginProduct):\n",
        "                # ArcMarginProduct needs label when training\n",
        "                logit = metric_fc(emb_vec, label)\n",
        "            else:\n",
        "                logit = metric_fc(emb_vec)\n",
        "            loss = criterion(logit, label.squeeze())\n",
        "\n",
        "            # backward\n",
        "            loss.backward()\n",
        "            optimizer.step()            \n",
        "            \n",
        "        # measure accuracy\n",
        "        prec1, prec5 = accuracy(logit.detach(), label, topk=(1, 5))\n",
        "        loss_meter.update(loss.item(), img.size(0))\n",
        "        top1.update(prec1[0], img.size(0))\n",
        "        top5.update(prec5[0], img.size(0))\n",
        "        \n",
        "        # print\n",
        "        if i % PRINT_FREQ == 0:\n",
        "            get_logger().info('i: %d loss: %f top1: %f top5: %f' % (i, loss_meter.avg, top1.avg, top5.avg))\n",
        "    get_logger().info(\n",
        "        \"Epoch %d/%d train loss %f\" % (epoch, EPOCHS, loss_meter.avg))\n",
        "    \n",
        "    return loss_meter.avg\n",
        "\n",
        "\n",
        "from sklearn.metrics import accuracy_score\n",
        "\n",
        "def validate_arcface(model,\n",
        "                     metric_fc,\n",
        "                     loader):\n",
        "    loss_meter = AverageMeter()\n",
        "    top1 = AverageMeter()\n",
        "    top5 = AverageMeter()\n",
        "    \n",
        "    # validate phase\n",
        "    model.eval()\n",
        "    for i, data in enumerate(tqdm(loader)):\n",
        "        img, label = data\n",
        "        img, label = img.cuda(), label.cuda().long()  \n",
        "        with torch.no_grad():\n",
        "            # forward                      \n",
        "            emb_vec = model(img)\n",
        "            logit = metric_fc(emb_vec)\n",
        "            loss = criterion(logit, label.squeeze())          \n",
        "            \n",
        "        # measure accuracy\n",
        "        prec1, prec5 = accuracy(logit.detach(), label, topk=(1, 5))\n",
        "        loss_meter.update(loss.item(), img.size(0))\n",
        "        top1.update(prec1[0], img.size(0))\n",
        "        top5.update(prec5[0], img.size(0))\n",
        "        \n",
        "        # print\n",
        "        if i % PRINT_FREQ == 0:\n",
        "            get_logger().info('i: %d loss: %f top1: %f top5: %f' % (i, loss_meter.avg, top1.avg, top5.avg))\n",
        "\n",
        "        '''\n",
        "        # calculate accuracy\n",
        "        max_proba = np.max(proba, axis=1)\n",
        "        max_proba_idx = np.argmax(proba, axis=1)\n",
        "        acc = accuracy_score(label, max_proba_idx)\n",
        "        # calculate GAP\n",
        "        gap = GAP_vector(max_proba_idx, max_proba, label.squeeze())\n",
        "        get_logger().info(\"validate score: acc %f gap %f\" % (acc, gap))\n",
        "        '''\n",
        "        \n",
        "    get_logger().info(\"valid loss %f\" % (loss_meter.avg))\n",
        "    \n",
        "    return top1.avg\n",
        "\n",
        "def predict_proba(model, metric_fc, loader):\n",
        "    \"\"\"\n",
        "    return numpy.ndarray of probability for each class\n",
        "    \"\"\"\n",
        "    outputs = []\n",
        "    labels = []\n",
        "    for data in tqdm(loader):\n",
        "        model.eval()\n",
        "        with torch.no_grad():\n",
        "            img, label = data\n",
        "            img = img.cuda()\n",
        "            output = metric_fc(model(img))\n",
        "            outputs.append(output.detach().cpu().numpy())\n",
        "            labels.append(label.numpy())\n",
        "    outputs = np.concatenate(outputs)\n",
        "    labels = np.concatenate(labels)\n",
        "    return outputs, labels\n",
        "\n",
        "\n",
        "\n",
        "def split_dataset(dataset, steps):\n",
        "    \"\"\"\n",
        "    split Dataset by steps and create DataLoader.\n",
        "    Parameters\n",
        "    dataset: torch.utils.data.Dataset\n",
        "    steps: int\n",
        "        the number of each dataset    \n",
        "    Returns\n",
        "    list of torch.utils.data.DataLoader\n",
        "    \"\"\"\n",
        "    # from IPython.core.debugger import Pdb; Pdb().set_trace()\n",
        "    _df = dataset.df\n",
        "    n = _df.shape[0]\n",
        "    loader_list = []\n",
        "    \n",
        "    split_indexes= np.array_split(np.arange(n), steps)\n",
        "    for split_index in split_indexes:\n",
        "        split_df = _df.iloc[split_index]\n",
        "        split_dataset = LandmarkDataset(dataset.image_folder, \n",
        "                                        split_df, \n",
        "                                        dataset.transform, \n",
        "                                        is_train=False)\n",
        "        split_loader = DataLoader(split_dataset,\n",
        "                          batch_size=BATCH_SIZE_TRAIN,\n",
        "                          num_workers=NUM_WORKERS,\n",
        "                          pin_memory=True,\n",
        "                          drop_last=False,\n",
        "                          shuffle=False\n",
        "                         )\n",
        "        loader_list.append(split_loader)\n",
        "    return loader_list\n",
        "\n",
        "    \n",
        "\n",
        "def make_df(df_org, labels, confidences):\n",
        "    \"\"\"\n",
        "    make dataframe for submission\n",
        "    df_org: pd.DataFrame of shape = [n_samples, more than 1]\n",
        "        dataframe which have id column\n",
        "    labels: ndarray of shape = [n_samples]\n",
        "        array of label(number)\n",
        "    confidences: ndarray of shape = [n_samples]\n",
        "        array of confidence(float)\n",
        "    Returns\n",
        "    pd.DataFrame of shape = [n_samples, 2]\n",
        "        the dataframe has 'id', 'landmarks' columns.\n",
        "    \"\"\"\n",
        "    # from IPython.core.debugger import Pdb; Pdb().set_trace()\n",
        "    new_df = pd.DataFrame()\n",
        "    new_df['id'] = df_org['id']\n",
        "    new_df['label'] = labels.astype(str)\n",
        "    new_df['confidence'] = confidences.astype(str)\n",
        "    new_df['landmarks'] = new_df['label'] + ' ' + new_df['confidence']\n",
        "    del new_df['label'], new_df['confidence']\n",
        "    return new_df\n",
        "\n",
        "\n",
        "def predict_label(model, metric_fc, test_dataset, label_encoder):\n",
        "    submit_file = 'submit_landmark.csv'\n",
        "    \n",
        "    # split df in test_dataset and make loader\n",
        "    loaders = split_dataset(test_dataset, 10)\n",
        "    \n",
        "    # write the header of a submission table\n",
        "    df_header = pd.DataFrame(columns=['id', 'landmarks'])\n",
        "    df_header.to_csv(submit_file, index=False)\n",
        "    \n",
        "    # prediction phase\n",
        "    for i, loader in enumerate(loaders):\n",
        "        get_logger().info('prediction %d / %d' % (i+1, len(loaders)))\n",
        "        model.eval()\n",
        "        with torch.no_grad():    \n",
        "            proba, _ = predict_proba(model, metric_fc, loaders[i])\n",
        "            max_proba = np.max(proba, axis=1)\n",
        "            max_proba_idx = np.argmax(proba, axis=1)\n",
        "            labels = label_encoder.inverse_transform(max_proba_idx)\n",
        "\n",
        "            df_submit = make_df(loader.dataset.df, labels, max_proba)\n",
        "\n",
        "        # write result in appending mode\n",
        "        df_submit.to_csv(submit_file, index=False, header=False, mode='a')\n",
        "        \n",
        "    get_logger().info(\"created submission file\")\n",
        "  "
      ],
      "execution_count": 0,
      "outputs": []
    },
    {
      "metadata": {
        "id": "MPUzcAtLDwd7",
        "colab_type": "text"
      },
      "cell_type": "markdown",
      "source": [
        "## main"
      ]
    },
    {
      "metadata": {
        "id": "DKnEDDIBascd",
        "colab_type": "code",
        "outputId": "22a13f98-1dbe-43dc-e04f-0d64e1e6a591",
        "colab": {
          "base_uri": "https://localhost:8080/",
          "height": 125
        }
      },
      "cell_type": "code",
      "source": [
        "BATCH_SIZE_TRAIN = 100\n",
        "NUM_WORKERS = 8\n",
        "EPOCHS = 12\n",
        "PRINT_FREQ = 100\n",
        "latent_dim = 512\n",
        "get_logger().info('batch size: %d' % BATCH_SIZE_TRAIN)\n",
        "get_logger().info('epochs: %d' % EPOCHS)\n",
        "get_logger().info('latent_dim: %d' % latent_dim)"
      ],
      "execution_count": 41,
      "outputs": [
        {
          "output_type": "stream",
          "text": [
            "[INFO]2019-04-28 04:12:38,451:main:batch size: 100\n",
            "[INFO]2019-04-28 04:12:38,451:main:batch size: 100\n",
            "[INFO]2019-04-28 04:12:38,457:main:epochs: 12\n",
            "[INFO]2019-04-28 04:12:38,457:main:epochs: 12\n",
            "[INFO]2019-04-28 04:12:38,460:main:latent_dim: 512\n",
            "[INFO]2019-04-28 04:12:38,460:main:latent_dim: 512\n"
          ],
          "name": "stderr"
        }
      ]
    },
    {
      "metadata": {
        "id": "11g95PtYVs8L",
        "colab_type": "text"
      },
      "cell_type": "markdown",
      "source": [
        "### train"
      ]
    },
    {
      "metadata": {
        "id": "JRQ04fG0Dwbc",
        "colab_type": "code",
        "outputId": "0e830d32-f3d0-4c1b-8390-02210e7c577f",
        "colab": {
          "base_uri": "https://localhost:8080/",
          "height": 239
        }
      },
      "cell_type": "code",
      "source": [
        "# load train data\n",
        "df_train = pd.read_csv(TRAIN_PATH, dtype={'id': 'object'})\n",
        "df_train.head()"
      ],
      "execution_count": 0,
      "outputs": [
        {
          "output_type": "execute_result",
          "data": {
            "text/html": [
              "<div>\n",
              "<style scoped>\n",
              "    .dataframe tbody tr th:only-of-type {\n",
              "        vertical-align: middle;\n",
              "    }\n",
              "\n",
              "    .dataframe tbody tr th {\n",
              "        vertical-align: top;\n",
              "    }\n",
              "\n",
              "    .dataframe thead th {\n",
              "        text-align: right;\n",
              "    }\n",
              "</style>\n",
              "<table border=\"1\" class=\"dataframe\">\n",
              "  <thead>\n",
              "    <tr style=\"text-align: right;\">\n",
              "      <th></th>\n",
              "      <th>id</th>\n",
              "      <th>url</th>\n",
              "      <th>landmark_id</th>\n",
              "    </tr>\n",
              "  </thead>\n",
              "  <tbody>\n",
              "    <tr>\n",
              "      <th>0</th>\n",
              "      <td>97c0a12e07ae8dd5</td>\n",
              "      <td>http://lh4.ggpht.com/-f8xYA5l4apw/RSziSQVaABI/...</td>\n",
              "      <td>6347</td>\n",
              "    </tr>\n",
              "    <tr>\n",
              "      <th>1</th>\n",
              "      <td>650c989dd3493748</td>\n",
              "      <td>https://lh5.googleusercontent.com/-PUnMrX7oOyA...</td>\n",
              "      <td>12519</td>\n",
              "    </tr>\n",
              "    <tr>\n",
              "      <th>2</th>\n",
              "      <td>05e63ca9b2cde1f4</td>\n",
              "      <td>http://mw2.google.com/mw-panoramio/photos/medi...</td>\n",
              "      <td>264</td>\n",
              "    </tr>\n",
              "    <tr>\n",
              "      <th>3</th>\n",
              "      <td>08672eddcb2b7c93</td>\n",
              "      <td>http://lh3.ggpht.com/-9fgSxDYwhHA/SMvGEoltKTI/...</td>\n",
              "      <td>13287</td>\n",
              "    </tr>\n",
              "    <tr>\n",
              "      <th>4</th>\n",
              "      <td>fc49cb32ef7f1e89</td>\n",
              "      <td>http://lh6.ggpht.com/-UGAXxvPbr98/S-jGZbyMIPI/...</td>\n",
              "      <td>4018</td>\n",
              "    </tr>\n",
              "  </tbody>\n",
              "</table>\n",
              "</div>"
            ],
            "text/plain": [
              "                 id                                                url  \\\n",
              "0  97c0a12e07ae8dd5  http://lh4.ggpht.com/-f8xYA5l4apw/RSziSQVaABI/...   \n",
              "1  650c989dd3493748  https://lh5.googleusercontent.com/-PUnMrX7oOyA...   \n",
              "2  05e63ca9b2cde1f4  http://mw2.google.com/mw-panoramio/photos/medi...   \n",
              "3  08672eddcb2b7c93  http://lh3.ggpht.com/-9fgSxDYwhHA/SMvGEoltKTI/...   \n",
              "4  fc49cb32ef7f1e89  http://lh6.ggpht.com/-UGAXxvPbr98/S-jGZbyMIPI/...   \n",
              "\n",
              "  landmark_id  \n",
              "0        6347  \n",
              "1       12519  \n",
              "2         264  \n",
              "3       13287  \n",
              "4        4018  "
            ]
          },
          "metadata": {
            "tags": []
          },
          "execution_count": 18
        }
      ]
    },
    {
      "metadata": {
        "id": "QYHywf19jfwx",
        "colab_type": "code",
        "outputId": "37c1ad70-e88d-4bb4-982c-a1943034614b",
        "colab": {
          "base_uri": "https://localhost:8080/",
          "height": 71
        }
      },
      "cell_type": "code",
      "source": [
        "# create label encoder\n",
        "# must be init_le() before get_exist_image()\n",
        "label_encoder = init_le(df_train)\n",
        "joblib.dump(label_encoder, 'le.pkl')\n",
        "\n",
        "# use landmark_id which have more than 1 image\n",
        "df_train = get_exist_image(df_train, TRAIN_IMG_PATH)\n",
        "id_count = df_train['landmark_id'].value_counts()\n",
        "s_count = df_train['landmark_id'].map(id_count)\n",
        "df_train = df_train[s_count > 1]\n",
        "print('more than 1 landmark_id: %d, images: %d' % ((id_count > 1).sum(), df_train.shape[0]))"
      ],
      "execution_count": 0,
      "outputs": [
        {
          "output_type": "stream",
          "text": [
            "100%|██████████| 256/256 [00:05<00:00, 44.06it/s]\n"
          ],
          "name": "stderr"
        },
        {
          "output_type": "stream",
          "text": [
            "exist images: 340748\n",
            "more than 1 landmark_id: 11257, images: 338428\n"
          ],
          "name": "stdout"
        }
      ]
    },
    {
      "metadata": {
        "id": "Nh9XJ9nSxPK-",
        "colab_type": "code",
        "outputId": "813b35fe-b094-4bac-b248-e1c7b8f8aff2",
        "colab": {
          "base_uri": "https://localhost:8080/",
          "height": 35
        }
      },
      "cell_type": "code",
      "source": [
        "# train validate split\n",
        "df_trn, df_val = split_train_valid(df_train, label_encoder.transform(df_train['landmark_id'].values), 10)\n",
        "get_logger().info('train num: %d, valid num: %d' % (len(df_trn), len(df_val)))"
      ],
      "execution_count": 0,
      "outputs": [
        {
          "output_type": "stream",
          "text": [
            "[INFO]2019-04-27 15:42:07,419:main:train num: 304585, valid num: 33843\n"
          ],
          "name": "stderr"
        }
      ]
    },
    {
      "metadata": {
        "id": "UpFXwjrxDwY1",
        "colab_type": "code",
        "colab": {}
      },
      "cell_type": "code",
      "source": [
        "# initialize Dataset and DataLoader\n",
        "train_dataset = LandmarkDataset(TRAIN_IMG_PATH, df_trn, \n",
        "                                trn_trnsfms, is_train=True, le=label_encoder)\n",
        "train_loader = DataLoader(train_dataset,\n",
        "                          batch_size=BATCH_SIZE_TRAIN,\n",
        "                          num_workers=NUM_WORKERS,\n",
        "                          pin_memory=True,\n",
        "                          drop_last=True,\n",
        "                          shuffle=True\n",
        "                         )\n",
        "valid_dataset = LandmarkDataset(TRAIN_IMG_PATH, df_val, \n",
        "                                tst_trnsfms, is_train=True, le=label_encoder)\n",
        "valid_loader = DataLoader(valid_dataset,\n",
        "                          batch_size=BATCH_SIZE_TRAIN,\n",
        "                          num_workers=NUM_WORKERS,\n",
        "                          pin_memory=True,\n",
        "                          drop_last=False,\n",
        "                          shuffle=False\n",
        "                         )"
      ],
      "execution_count": 0,
      "outputs": []
    },
    {
      "metadata": {
        "id": "-VFP18BuDwQx",
        "colab_type": "code",
        "outputId": "06f4161b-c6a0-4f0e-a6cf-1905e0fc4f05",
        "colab": {
          "base_uri": "https://localhost:8080/",
          "height": 35
        }
      },
      "cell_type": "code",
      "source": [
        "train_dataset.df.shape"
      ],
      "execution_count": 0,
      "outputs": [
        {
          "output_type": "execute_result",
          "data": {
            "text/plain": [
              "(304585, 3)"
            ]
          },
          "metadata": {
            "tags": []
          },
          "execution_count": 22
        }
      ]
    },
    {
      "metadata": {
        "id": "450xobzQoojo",
        "colab_type": "code",
        "colab": {}
      },
      "cell_type": "code",
      "source": [
        "n_classes = len(label_encoder.classes_)\n",
        "# Model\n",
        "#model = DenseNet(output_neurons=latent_dim, n_classes=len(le.classes_),  dropout_rate=0.5).cuda()    \n",
        "model = ResNet(output_neurons=latent_dim, n_classes=n_classes, dropout_rate=0.5).cuda()    \n",
        "\n",
        "# Last Layer\n",
        "# metric_fc = ArcMarginProduct(latent_dim, n_classes, s=60, m=0.5, easy_margin=False).cuda()\n",
        "metric_fc = nn.Linear(latent_dim, n_classes).cuda()\n",
        "\n",
        "# Loss function\n",
        "criterion = nn.CrossEntropyLoss()\n",
        "# criterion = FocalLoss(gamma=2)\n",
        "\n",
        "# Optimizer\n",
        "optimizer = optim.Adam([{'params':model.parameters()}, {'params': metric_fc.parameters()}], lr=1e-4)\n",
        "# optimizer = optim.SGD([{'params':model.parameters()}, {'params': metric_fc.parameters()}], \n",
        "#                       lr=1e-3, momentum=0.9, weight_decay=1e-4)\n",
        "\n",
        "# Scheduler\n",
        "mile_stones = [5, 7, 9, 10, 11, 12]\n",
        "scheduler = optim.lr_scheduler.MultiStepLR(optimizer, mile_stones, gamma=0.5, last_epoch=-1)\n",
        "# scheduler_step = EPOCHS\n",
        "# scheduler = optim.lr_scheduler.CosineAnnealingLR(optimizer, scheduler_step, eta_min=1e-4)"
      ],
      "execution_count": 0,
      "outputs": []
    },
    {
      "metadata": {
        "id": "tXPhsoipdEm5",
        "colab_type": "code",
        "colab": {}
      },
      "cell_type": "code",
      "source": [
        "# create model object before following statement\n",
        "start_epoch, model, metric_fc, optimizer, scheduler = load_checkpoint(model, \n",
        "                                                                      metric_fc,\n",
        "                                                                      optimizer,\n",
        "                                                                      scheduler, \n",
        "                                                                      'best_model.pth')"
      ],
      "execution_count": 0,
      "outputs": []
    },
    {
      "metadata": {
        "id": "FXFjd-6xtEmq",
        "colab_type": "code",
        "outputId": "a4318a1f-d44b-4287-e1f6-093573a1292c",
        "colab": {
          "base_uri": "https://localhost:8080/",
          "height": 6283
        }
      },
      "cell_type": "code",
      "source": [
        "# start_epoch = 0\n",
        "best_score = 0\n",
        "\n",
        "for epoch in range(start_epoch+1, EPOCHS+1):\n",
        "    scheduler.step()\n",
        "    \n",
        "    epoch_loss = train(epoch, model, train_loader, metric_fc, criterion, optimizer)\n",
        "    \n",
        "    valid_score = validate_arcface(model, metric_fc, valid_loader)\n",
        "    \n",
        "    is_best = valid_score > best_score\n",
        "    print('best score (%f) at epoch (%d)' % (valid_score, epoch))\n",
        "    save_checkpoint({\n",
        "        'epoch': epoch,\n",
        "        'state_dict': model.state_dict(),\n",
        "        'metric_fc': metric_fc.state_dict(),\n",
        "        'optimizer': optimizer.state_dict(),\n",
        "        'scheduler': scheduler.state_dict()\n",
        "    }, is_best)"
      ],
      "execution_count": 0,
      "outputs": [
        {
          "output_type": "stream",
          "text": [
            "[INFO]2019-04-27 15:42:40,090:main:[Start] epoch: 2\n",
            "[INFO]2019-04-27 15:42:40,098:main:lr: 0.000100\n",
            "  0%|          | 0/3045 [00:00<?, ?it/s][INFO]2019-04-27 15:42:47,839:main:i: 0 loss: 3.036389 top1: 59.000000 top5: 68.000000\n",
            "  3%|▎         | 100/3045 [01:57<54:10,  1.10s/it][INFO]2019-04-27 15:44:38,627:main:i: 100 loss: 2.752966 top1: 59.168316 top5: 70.287125\n",
            "  7%|▋         | 200/3045 [03:48<52:43,  1.11s/it][INFO]2019-04-27 15:46:29,709:main:i: 200 loss: 2.715108 top1: 59.771145 top5: 70.935326\n",
            " 10%|▉         | 300/3045 [05:39<50:34,  1.11s/it][INFO]2019-04-27 15:48:20,525:main:i: 300 loss: 2.691405 top1: 59.996674 top5: 71.192688\n",
            " 13%|█▎        | 400/3045 [07:30<48:51,  1.11s/it][INFO]2019-04-27 15:50:11,828:main:i: 400 loss: 2.653103 top1: 60.503738 top5: 71.633415\n",
            " 16%|█▋        | 500/3045 [09:21<47:05,  1.11s/it][INFO]2019-04-27 15:52:02,887:main:i: 500 loss: 2.627671 top1: 60.896210 top5: 71.950104\n",
            " 20%|█▉        | 600/3045 [11:12<44:56,  1.10s/it][INFO]2019-04-27 15:53:53,658:main:i: 600 loss: 2.604328 top1: 61.164722 top5: 72.196335\n",
            " 23%|██▎       | 700/3045 [13:02<43:10,  1.10s/it][INFO]2019-04-27 15:55:44,084:main:i: 700 loss: 2.581411 top1: 61.450787 top5: 72.513550\n",
            " 26%|██▋       | 800/3045 [14:53<41:38,  1.11s/it][INFO]2019-04-27 15:57:34,774:main:i: 800 loss: 2.561524 top1: 61.709114 top5: 72.744072\n",
            " 30%|██▉       | 900/3045 [16:44<39:52,  1.12s/it][INFO]2019-04-27 15:59:25,993:main:i: 900 loss: 2.528826 top1: 62.217537 top5: 73.152054\n",
            " 33%|███▎      | 1000/3045 [18:35<37:50,  1.11s/it][INFO]2019-04-27 16:01:17,137:main:i: 1000 loss: 2.504398 top1: 62.510490 top5: 73.433563\n",
            " 36%|███▌      | 1100/3045 [20:27<35:54,  1.11s/it][INFO]2019-04-27 16:03:08,399:main:i: 1100 loss: 2.483393 top1: 62.758404 top5: 73.691193\n",
            " 39%|███▉      | 1200/3045 [22:18<33:54,  1.10s/it][INFO]2019-04-27 16:04:59,251:main:i: 1200 loss: 2.462157 top1: 63.027477 top5: 73.945877\n",
            " 43%|████▎     | 1300/3045 [24:08<32:16,  1.11s/it][INFO]2019-04-27 16:06:50,203:main:i: 1300 loss: 2.440953 top1: 63.313606 top5: 74.202927\n",
            " 46%|████▌     | 1400/3045 [26:00<30:36,  1.12s/it][INFO]2019-04-27 16:08:41,515:main:i: 1400 loss: 2.421265 top1: 63.563881 top5: 74.437546\n",
            " 49%|████▉     | 1500/3045 [27:51<28:45,  1.12s/it][INFO]2019-04-27 16:10:32,733:main:i: 1500 loss: 2.397572 top1: 63.881413 top5: 74.739510\n",
            " 53%|█████▎    | 1600/3045 [29:42<26:35,  1.10s/it][INFO]2019-04-27 16:12:23,828:main:i: 1600 loss: 2.377643 top1: 64.128670 top5: 75.009995\n",
            " 56%|█████▌    | 1700/3045 [31:33<24:59,  1.11s/it][INFO]2019-04-27 16:14:15,060:main:i: 1700 loss: 2.353290 top1: 64.437386 top5: 75.320984\n",
            " 59%|█████▉    | 1800/3045 [33:24<22:58,  1.11s/it][INFO]2019-04-27 16:16:05,849:main:i: 1800 loss: 2.331507 top1: 64.740150 top5: 75.584122\n",
            " 62%|██████▏   | 1900/3045 [35:15<21:12,  1.11s/it][INFO]2019-04-27 16:17:57,012:main:i: 1900 loss: 2.310012 top1: 65.013672 top5: 75.831665\n",
            " 66%|██████▌   | 2000/3045 [37:06<19:12,  1.10s/it][INFO]2019-04-27 16:19:47,931:main:i: 2000 loss: 2.290442 top1: 65.285851 top5: 76.046974\n",
            " 69%|██████▉   | 2100/3045 [38:57<17:27,  1.11s/it][INFO]2019-04-27 16:21:39,122:main:i: 2100 loss: 2.270227 top1: 65.553070 top5: 76.295570\n",
            " 72%|███████▏  | 2200/3045 [40:49<15:46,  1.12s/it][INFO]2019-04-27 16:23:30,276:main:i: 2200 loss: 2.251199 top1: 65.795547 top5: 76.523857\n",
            " 76%|███████▌  | 2300/3045 [42:40<13:43,  1.11s/it][INFO]2019-04-27 16:25:21,664:main:i: 2300 loss: 2.234625 top1: 66.010864 top5: 76.724907\n",
            " 79%|███████▉  | 2400/3045 [44:31<11:55,  1.11s/it][INFO]2019-04-27 16:27:12,646:main:i: 2400 loss: 2.215711 top1: 66.262390 top5: 76.962936\n",
            " 82%|████████▏ | 2500/3045 [46:22<10:06,  1.11s/it][INFO]2019-04-27 16:29:03,762:main:i: 2500 loss: 2.195679 top1: 66.541382 top5: 77.207916\n",
            " 85%|████████▌ | 2600/3045 [48:13<08:14,  1.11s/it][INFO]2019-04-27 16:30:54,800:main:i: 2600 loss: 2.177485 top1: 66.772392 top5: 77.429451\n",
            " 89%|████████▊ | 2700/3045 [50:04<06:23,  1.11s/it][INFO]2019-04-27 16:32:45,856:main:i: 2700 loss: 2.162399 top1: 66.980377 top5: 77.620506\n",
            " 92%|█████████▏| 2800/3045 [51:55<04:33,  1.12s/it][INFO]2019-04-27 16:34:37,074:main:i: 2800 loss: 2.144546 top1: 67.201355 top5: 77.830414\n",
            " 95%|█████████▌| 2900/3045 [53:47<02:42,  1.12s/it][INFO]2019-04-27 16:36:28,660:main:i: 2900 loss: 2.125623 top1: 67.457085 top5: 78.054123\n",
            " 99%|█████████▊| 3000/3045 [55:38<00:49,  1.10s/it][INFO]2019-04-27 16:38:19,754:main:i: 3000 loss: 2.109855 top1: 67.660782 top5: 78.234589\n",
            "100%|██████████| 3045/3045 [56:28<00:00,  1.11s/it]\n",
            "[INFO]2019-04-27 16:39:08,812:main:Epoch 2/12 train loss 2.102666\n",
            "  0%|          | 0/339 [00:00<?, ?it/s][INFO]2019-04-27 16:39:13,967:main:i: 0 loss: 1.814174 top1: 70.000000 top5: 83.000000\n",
            " 29%|██▉       | 100/339 [00:59<02:20,  1.70it/s][INFO]2019-04-27 16:40:08,316:main:i: 100 loss: 1.594334 top1: 74.821785 top5: 84.762375\n",
            " 59%|█████▉    | 200/339 [01:54<00:59,  2.36it/s][INFO]2019-04-27 16:41:04,163:main:i: 200 loss: 1.611674 top1: 74.731346 top5: 84.562187\n",
            " 88%|████████▊ | 300/339 [02:52<00:22,  1.74it/s][INFO]2019-04-27 16:42:02,004:main:i: 300 loss: 1.610998 top1: 74.767441 top5: 84.465111\n",
            "100%|██████████| 339/339 [03:12<00:00,  3.26it/s]\n",
            "[INFO]2019-04-27 16:42:21,912:main:valid loss 1.606069\n"
          ],
          "name": "stderr"
        },
        {
          "output_type": "stream",
          "text": [
            "best score (74.872200) at epoch (2)\n"
          ],
          "name": "stdout"
        },
        {
          "output_type": "stream",
          "text": [
            "[INFO]2019-04-27 16:42:27,253:main:[Start] epoch: 3\n",
            "[INFO]2019-04-27 16:42:27,255:main:lr: 0.000100\n",
            "  0%|          | 0/3045 [00:00<?, ?it/s][INFO]2019-04-27 16:42:34,000:main:i: 0 loss: 1.302685 top1: 79.000000 top5: 90.000000\n",
            "  3%|▎         | 100/3045 [01:57<54:42,  1.11s/it][INFO]2019-04-27 16:44:25,745:main:i: 100 loss: 1.349815 top1: 77.831680 top5: 87.198021\n",
            "  7%|▋         | 200/3045 [03:48<52:53,  1.12s/it][INFO]2019-04-27 16:46:17,302:main:i: 200 loss: 1.336310 top1: 77.950249 top5: 87.348259\n",
            " 10%|▉         | 300/3045 [05:40<50:54,  1.11s/it][INFO]2019-04-27 16:48:08,749:main:i: 300 loss: 1.334756 top1: 78.026573 top5: 87.395348\n",
            " 13%|█▎        | 400/3045 [07:31<48:52,  1.11s/it][INFO]2019-04-27 16:49:59,754:main:i: 400 loss: 1.329527 top1: 77.985039 top5: 87.403992\n",
            " 16%|█▋        | 500/3045 [09:22<46:44,  1.10s/it][INFO]2019-04-27 16:51:50,496:main:i: 500 loss: 1.327353 top1: 78.063873 top5: 87.397209\n",
            " 20%|█▉        | 600/3045 [11:12<45:19,  1.11s/it][INFO]2019-04-27 16:53:41,260:main:i: 600 loss: 1.319052 top1: 78.181358 top5: 87.505821\n",
            " 23%|██▎       | 700/3045 [13:04<43:34,  1.11s/it][INFO]2019-04-27 16:55:32,967:main:i: 700 loss: 1.317501 top1: 78.191154 top5: 87.522110\n",
            " 26%|██▋       | 800/3045 [14:55<41:32,  1.11s/it][INFO]2019-04-27 16:57:24,242:main:i: 800 loss: 1.309707 top1: 78.288391 top5: 87.593010\n",
            " 30%|██▉       | 900/3045 [16:46<39:38,  1.11s/it][INFO]2019-04-27 16:59:15,098:main:i: 900 loss: 1.299283 top1: 78.430634 top5: 87.701447\n",
            " 33%|███▎      | 1000/3045 [18:37<37:54,  1.11s/it][INFO]2019-04-27 17:01:05,922:main:i: 1000 loss: 1.296273 top1: 78.472527 top5: 87.721275\n",
            " 36%|███▌      | 1100/3045 [20:28<36:01,  1.11s/it][INFO]2019-04-27 17:02:57,217:main:i: 1100 loss: 1.284518 top1: 78.671211 top5: 87.859222\n",
            " 39%|███▉      | 1200/3045 [22:19<34:15,  1.11s/it][INFO]2019-04-27 17:04:48,251:main:i: 1200 loss: 1.285403 top1: 78.644463 top5: 87.867615\n",
            " 43%|████▎     | 1300/3045 [24:11<32:26,  1.12s/it][INFO]2019-04-27 17:06:39,492:main:i: 1300 loss: 1.278698 top1: 78.724060 top5: 87.946198\n",
            " 46%|████▌     | 1400/3045 [26:02<30:27,  1.11s/it][INFO]2019-04-27 17:08:30,455:main:i: 1400 loss: 1.269057 top1: 78.865807 top5: 88.081367\n",
            " 49%|████▉     | 1500/3045 [27:53<28:41,  1.11s/it][INFO]2019-04-27 17:10:21,841:main:i: 1500 loss: 1.263664 top1: 78.921387 top5: 88.125916\n",
            " 53%|█████▎    | 1600/3045 [29:44<26:50,  1.11s/it][INFO]2019-04-27 17:12:12,961:main:i: 1600 loss: 1.257821 top1: 79.001877 top5: 88.181763\n",
            " 56%|█████▌    | 1700/3045 [31:35<24:55,  1.11s/it][INFO]2019-04-27 17:14:03,834:main:i: 1700 loss: 1.252420 top1: 79.069954 top5: 88.253967\n",
            " 59%|█████▉    | 1800/3045 [33:26<22:54,  1.10s/it][INFO]2019-04-27 17:15:54,702:main:i: 1800 loss: 1.245016 top1: 79.193787 top5: 88.330376\n",
            " 62%|██████▏   | 1900/3045 [35:16<21:05,  1.10s/it][INFO]2019-04-27 17:17:45,346:main:i: 1900 loss: 1.239189 top1: 79.272484 top5: 88.405571\n",
            " 66%|██████▌   | 2000/3045 [37:07<19:19,  1.11s/it][INFO]2019-04-27 17:19:36,274:main:i: 2000 loss: 1.232861 top1: 79.363815 top5: 88.473259\n",
            " 69%|██████▉   | 2100/3045 [38:58<17:28,  1.11s/it][INFO]2019-04-27 17:21:27,259:main:i: 2100 loss: 1.225891 top1: 79.462631 top5: 88.555923\n",
            " 72%|███████▏  | 2200/3045 [40:49<15:38,  1.11s/it][INFO]2019-04-27 17:23:18,147:main:i: 2200 loss: 1.219477 top1: 79.544296 top5: 88.623352\n",
            " 76%|███████▌  | 2300/3045 [42:40<13:41,  1.10s/it][INFO]2019-04-27 17:25:08,942:main:i: 2300 loss: 1.214762 top1: 79.618866 top5: 88.673622\n",
            " 79%|███████▉  | 2400/3045 [44:31<11:53,  1.11s/it][INFO]2019-04-27 17:26:59,604:main:i: 2400 loss: 1.207793 top1: 79.724281 top5: 88.742607\n",
            " 82%|████████▏ | 2500/3045 [46:21<10:00,  1.10s/it][INFO]2019-04-27 17:28:50,106:main:i: 2500 loss: 1.202061 top1: 79.820869 top5: 88.792480\n",
            " 85%|████████▌ | 2600/3045 [48:12<08:09,  1.10s/it][INFO]2019-04-27 17:30:40,559:main:i: 2600 loss: 1.196475 top1: 79.896576 top5: 88.837753\n",
            " 89%|████████▊ | 2700/3045 [50:03<06:24,  1.11s/it][INFO]2019-04-27 17:32:31,406:main:i: 2700 loss: 1.191656 top1: 79.966309 top5: 88.887817\n",
            " 92%|█████████▏| 2800/3045 [51:54<04:31,  1.11s/it][INFO]2019-04-27 17:34:22,589:main:i: 2800 loss: 1.185842 top1: 80.040344 top5: 88.941803\n",
            " 95%|█████████▌| 2900/3045 [53:45<02:40,  1.10s/it][INFO]2019-04-27 17:36:13,556:main:i: 2900 loss: 1.179324 top1: 80.134094 top5: 89.014481\n",
            " 99%|█████████▊| 3000/3045 [55:36<00:49,  1.11s/it][INFO]2019-04-27 17:38:04,447:main:i: 3000 loss: 1.174743 top1: 80.204597 top5: 89.052986\n",
            "100%|██████████| 3045/3045 [56:25<00:00,  1.10s/it]\n",
            "[INFO]2019-04-27 17:38:53,453:main:Epoch 3/12 train loss 1.171841\n",
            "  0%|          | 0/339 [00:00<?, ?it/s][INFO]2019-04-27 17:38:57,776:main:i: 0 loss: 1.262096 top1: 76.000000 top5: 88.000000\n",
            " 29%|██▉       | 100/339 [01:00<02:49,  1.41it/s][INFO]2019-04-27 17:39:54,140:main:i: 100 loss: 1.096509 top1: 81.702972 top5: 90.128716\n",
            " 59%|█████▉    | 200/339 [01:55<01:06,  2.10it/s][INFO]2019-04-27 17:40:49,796:main:i: 200 loss: 1.109403 top1: 81.686569 top5: 90.089554\n",
            " 88%|████████▊ | 300/339 [02:52<00:32,  1.20it/s][INFO]2019-04-27 17:41:45,816:main:i: 300 loss: 1.104864 top1: 81.727570 top5: 89.953484\n",
            "100%|██████████| 339/339 [03:12<00:00,  3.19it/s]\n",
            "[INFO]2019-04-27 17:42:06,278:main:valid loss 1.102311\n"
          ],
          "name": "stderr"
        },
        {
          "output_type": "stream",
          "text": [
            "best score (81.759888) at epoch (3)\n"
          ],
          "name": "stdout"
        },
        {
          "output_type": "stream",
          "text": [
            "[INFO]2019-04-27 17:42:12,372:main:[Start] epoch: 4\n",
            "[INFO]2019-04-27 17:42:12,374:main:lr: 0.000100\n",
            "  0%|          | 0/3045 [00:00<?, ?it/s][INFO]2019-04-27 17:42:18,911:main:i: 0 loss: 0.981929 top1: 83.000000 top5: 92.000000\n",
            "  3%|▎         | 100/3045 [01:57<54:39,  1.11s/it][INFO]2019-04-27 17:44:10,689:main:i: 100 loss: 0.792882 top1: 86.079208 top5: 93.227722\n",
            "  7%|▋         | 200/3045 [03:48<52:42,  1.11s/it][INFO]2019-04-27 17:46:01,511:main:i: 200 loss: 0.786251 top1: 86.034828 top5: 93.557213\n",
            " 10%|▉         | 300/3045 [05:39<50:47,  1.11s/it][INFO]2019-04-27 17:47:52,811:main:i: 300 loss: 0.789559 top1: 85.940193 top5: 93.465111\n",
            " 13%|█▎        | 400/3045 [07:30<48:55,  1.11s/it][INFO]2019-04-27 17:49:43,770:main:i: 400 loss: 0.782967 top1: 86.027428 top5: 93.488777\n",
            " 16%|█▋        | 500/3045 [09:20<46:48,  1.10s/it][INFO]2019-04-27 17:51:34,373:main:i: 500 loss: 0.780028 top1: 86.027946 top5: 93.542915\n",
            " 20%|█▉        | 600/3045 [11:11<45:28,  1.12s/it][INFO]2019-04-27 17:53:25,369:main:i: 600 loss: 0.775094 top1: 86.106483 top5: 93.653908\n",
            " 23%|██▎       | 700/3045 [13:02<43:31,  1.11s/it][INFO]2019-04-27 17:55:16,318:main:i: 700 loss: 0.770905 top1: 86.129814 top5: 93.693298\n",
            " 26%|██▋       | 800/3045 [14:54<41:26,  1.11s/it][INFO]2019-04-27 17:57:07,642:main:i: 800 loss: 0.770938 top1: 86.142326 top5: 93.679153\n",
            " 30%|██▉       | 900/3045 [16:44<39:36,  1.11s/it][INFO]2019-04-27 17:58:58,458:main:i: 900 loss: 0.767670 top1: 86.187569 top5: 93.723640\n",
            " 33%|███▎      | 1000/3045 [18:35<38:01,  1.12s/it][INFO]2019-04-27 18:00:49,425:main:i: 1000 loss: 0.766443 top1: 86.172829 top5: 93.727272\n",
            " 36%|███▌      | 1100/3045 [20:26<36:18,  1.12s/it][INFO]2019-04-27 18:02:40,291:main:i: 1100 loss: 0.764000 top1: 86.197098 top5: 93.726616\n",
            " 39%|███▉      | 1200/3045 [22:17<34:14,  1.11s/it][INFO]2019-04-27 18:04:31,084:main:i: 1200 loss: 0.762448 top1: 86.204002 top5: 93.708580\n",
            " 43%|████▎     | 1300/3045 [24:08<32:28,  1.12s/it][INFO]2019-04-27 18:06:21,662:main:i: 1300 loss: 0.761460 top1: 86.220604 top5: 93.697159\n",
            " 46%|████▌     | 1400/3045 [25:58<30:14,  1.10s/it][INFO]2019-04-27 18:08:12,315:main:i: 1400 loss: 0.759927 top1: 86.241257 top5: 93.704491\n",
            " 49%|████▉     | 1500/3045 [27:49<28:37,  1.11s/it][INFO]2019-04-27 18:10:02,967:main:i: 1500 loss: 0.758170 top1: 86.233177 top5: 93.722847\n",
            " 53%|█████▎    | 1600/3045 [29:40<26:34,  1.10s/it][INFO]2019-04-27 18:11:53,959:main:i: 1600 loss: 0.756069 top1: 86.256088 top5: 93.730797\n",
            " 56%|█████▌    | 1700/3045 [31:31<25:06,  1.12s/it][INFO]2019-04-27 18:13:44,743:main:i: 1700 loss: 0.755349 top1: 86.264549 top5: 93.720749\n",
            " 59%|█████▉    | 1800/3045 [33:21<22:52,  1.10s/it][INFO]2019-04-27 18:15:35,383:main:i: 1800 loss: 0.752866 top1: 86.296509 top5: 93.730156\n",
            " 62%|██████▏   | 1900/3045 [35:12<21:05,  1.11s/it][INFO]2019-04-27 18:17:25,802:main:i: 1900 loss: 0.750964 top1: 86.320358 top5: 93.739609\n",
            " 66%|██████▌   | 2000/3045 [37:03<19:21,  1.11s/it][INFO]2019-04-27 18:19:16,516:main:i: 2000 loss: 0.749326 top1: 86.321838 top5: 93.758118\n",
            " 69%|██████▉   | 2100/3045 [38:54<17:31,  1.11s/it][INFO]2019-04-27 18:21:07,529:main:i: 2100 loss: 0.747633 top1: 86.357445 top5: 93.765350\n",
            " 72%|███████▏  | 2200/3045 [40:45<15:42,  1.12s/it][INFO]2019-04-27 18:22:58,801:main:i: 2200 loss: 0.744681 top1: 86.397095 top5: 93.783737\n",
            " 76%|███████▌  | 2300/3045 [42:36<13:50,  1.12s/it][INFO]2019-04-27 18:24:50,127:main:i: 2300 loss: 0.742806 top1: 86.424599 top5: 93.803566\n",
            " 79%|███████▉  | 2400/3045 [44:27<11:56,  1.11s/it][INFO]2019-04-27 18:26:41,299:main:i: 2400 loss: 0.741851 top1: 86.441483 top5: 93.803833\n",
            " 82%|████████▏ | 2500/3045 [46:18<10:03,  1.11s/it][INFO]2019-04-27 18:28:32,320:main:i: 2500 loss: 0.739619 top1: 86.481407 top5: 93.824074\n",
            " 85%|████████▌ | 2600/3045 [48:09<08:14,  1.11s/it][INFO]2019-04-27 18:30:23,301:main:i: 2600 loss: 0.737575 top1: 86.504036 top5: 93.838142\n",
            " 89%|████████▊ | 2700/3045 [50:00<06:22,  1.11s/it][INFO]2019-04-27 18:32:14,362:main:i: 2700 loss: 0.735999 top1: 86.509438 top5: 93.854126\n",
            " 92%|█████████▏| 2800/3045 [51:51<04:31,  1.11s/it][INFO]2019-04-27 18:34:05,399:main:i: 2800 loss: 0.734553 top1: 86.529449 top5: 93.870758\n",
            " 95%|█████████▌| 2900/3045 [53:43<02:40,  1.11s/it][INFO]2019-04-27 18:35:56,505:main:i: 2900 loss: 0.732949 top1: 86.541885 top5: 93.881424\n",
            " 99%|█████████▊| 3000/3045 [55:34<00:49,  1.11s/it][INFO]2019-04-27 18:37:47,633:main:i: 3000 loss: 0.730720 top1: 86.571480 top5: 93.908363\n",
            "100%|██████████| 3045/3045 [56:24<00:00,  1.11s/it]\n",
            "[INFO]2019-04-27 18:38:36,807:main:Epoch 4/12 train loss 0.729652\n",
            "  0%|          | 0/339 [00:00<?, ?it/s][INFO]2019-04-27 18:38:41,508:main:i: 0 loss: 1.033643 top1: 83.000000 top5: 90.000000\n",
            " 29%|██▉       | 100/339 [00:57<02:04,  1.91it/s][INFO]2019-04-27 18:39:35,353:main:i: 100 loss: 0.853575 top1: 85.148514 top5: 92.445541\n",
            " 59%|█████▉    | 200/339 [01:52<01:10,  1.96it/s][INFO]2019-04-27 18:40:30,073:main:i: 200 loss: 0.870079 top1: 84.855721 top5: 92.263680\n",
            " 88%|████████▊ | 300/339 [02:49<00:21,  1.82it/s][INFO]2019-04-27 18:41:27,055:main:i: 300 loss: 0.862972 top1: 84.923584 top5: 92.289032\n",
            "100%|██████████| 339/339 [03:10<00:00,  3.31it/s]\n",
            "[INFO]2019-04-27 18:41:47,210:main:valid loss 0.858898\n"
          ],
          "name": "stderr"
        },
        {
          "output_type": "stream",
          "text": [
            "best score (84.909729) at epoch (4)\n"
          ],
          "name": "stdout"
        },
        {
          "output_type": "stream",
          "text": [
            "[INFO]2019-04-27 18:41:52,012:main:[Start] epoch: 5\n",
            "[INFO]2019-04-27 18:41:52,014:main:lr: 0.000100\n",
            "  0%|          | 0/3045 [00:00<?, ?it/s][INFO]2019-04-27 18:41:58,981:main:i: 0 loss: 0.327437 top1: 94.000000 top5: 98.000000\n",
            "  3%|▎         | 100/3045 [01:57<54:57,  1.12s/it][INFO]2019-04-27 18:43:50,533:main:i: 100 loss: 0.487026 top1: 90.881187 top5: 96.663368\n",
            "  7%|▋         | 200/3045 [03:48<52:10,  1.10s/it][INFO]2019-04-27 18:45:41,337:main:i: 200 loss: 0.483398 top1: 91.009949 top5: 96.681595\n",
            " 10%|▉         | 300/3045 [05:39<51:01,  1.12s/it][INFO]2019-04-27 18:47:32,570:main:i: 300 loss: 0.483981 top1: 90.870430 top5: 96.651161\n",
            " 13%|█▎        | 400/3045 [07:30<49:05,  1.11s/it][INFO]2019-04-27 18:49:23,792:main:i: 400 loss: 0.483118 top1: 90.758102 top5: 96.678299\n",
            " 16%|█▋        | 500/3045 [09:21<47:07,  1.11s/it][INFO]2019-04-27 18:51:15,005:main:i: 500 loss: 0.479253 top1: 90.828346 top5: 96.704590\n",
            " 20%|█▉        | 600/3045 [11:13<45:22,  1.11s/it][INFO]2019-04-27 18:53:06,332:main:i: 600 loss: 0.480224 top1: 90.768715 top5: 96.732109\n",
            " 23%|██▎       | 700/3045 [13:04<43:25,  1.11s/it][INFO]2019-04-27 18:54:57,375:main:i: 700 loss: 0.477814 top1: 90.776031 top5: 96.761772\n",
            " 26%|██▋       | 800/3045 [14:54<41:19,  1.10s/it][INFO]2019-04-27 18:56:48,150:main:i: 800 loss: 0.478759 top1: 90.731583 top5: 96.772781\n",
            " 30%|██▉       | 900/3045 [16:45<39:30,  1.11s/it][INFO]2019-04-27 18:58:38,804:main:i: 900 loss: 0.479898 top1: 90.688126 top5: 96.769150\n",
            " 33%|███▎      | 1000/3045 [18:36<37:39,  1.10s/it][INFO]2019-04-27 19:00:29,645:main:i: 1000 loss: 0.481807 top1: 90.619377 top5: 96.744255\n",
            " 36%|███▌      | 1100/3045 [20:26<35:42,  1.10s/it][INFO]2019-04-27 19:02:20,032:main:i: 1100 loss: 0.482385 top1: 90.603088 top5: 96.722984\n",
            " 39%|███▉      | 1200/3045 [22:17<33:55,  1.10s/it][INFO]2019-04-27 19:04:10,768:main:i: 1200 loss: 0.481935 top1: 90.620316 top5: 96.721069\n",
            " 43%|████▎     | 1300/3045 [24:08<32:23,  1.11s/it][INFO]2019-04-27 19:06:01,722:main:i: 1300 loss: 0.481917 top1: 90.588783 top5: 96.714836\n",
            " 46%|████▌     | 1400/3045 [25:59<30:28,  1.11s/it][INFO]2019-04-27 19:07:52,837:main:i: 1400 loss: 0.483796 top1: 90.553177 top5: 96.685219\n",
            " 49%|████▉     | 1500/3045 [27:50<28:22,  1.10s/it][INFO]2019-04-27 19:09:43,458:main:i: 1500 loss: 0.484105 top1: 90.555626 top5: 96.676216\n",
            " 53%|█████▎    | 1600/3045 [29:40<26:34,  1.10s/it][INFO]2019-04-27 19:11:33,940:main:i: 1600 loss: 0.483718 top1: 90.543411 top5: 96.669586\n",
            " 56%|█████▌    | 1700/3045 [31:31<24:43,  1.10s/it][INFO]2019-04-27 19:13:24,421:main:i: 1700 loss: 0.486045 top1: 90.470306 top5: 96.640213\n",
            " 59%|█████▉    | 1800/3045 [33:22<23:01,  1.11s/it][INFO]2019-04-27 19:15:15,522:main:i: 1800 loss: 0.487036 top1: 90.449196 top5: 96.634094\n",
            " 62%|██████▏   | 1900/3045 [35:12<21:04,  1.10s/it][INFO]2019-04-27 19:17:06,141:main:i: 1900 loss: 0.488518 top1: 90.409256 top5: 96.601257\n",
            " 66%|██████▌   | 2000/3045 [37:03<19:10,  1.10s/it][INFO]2019-04-27 19:18:56,464:main:i: 2000 loss: 0.488731 top1: 90.396797 top5: 96.597694\n",
            " 69%|██████▉   | 2100/3045 [38:53<17:29,  1.11s/it][INFO]2019-04-27 19:20:46,979:main:i: 2100 loss: 0.488924 top1: 90.369347 top5: 96.591621\n",
            " 72%|███████▏  | 2200/3045 [40:45<15:41,  1.11s/it][INFO]2019-04-27 19:22:38,216:main:i: 2200 loss: 0.489608 top1: 90.346664 top5: 96.577011\n",
            " 76%|███████▌  | 2300/3045 [42:35<13:40,  1.10s/it][INFO]2019-04-27 19:24:28,830:main:i: 2300 loss: 0.491080 top1: 90.319862 top5: 96.561501\n",
            " 79%|███████▉  | 2400/3045 [44:26<11:55,  1.11s/it][INFO]2019-04-27 19:26:19,232:main:i: 2400 loss: 0.490906 top1: 90.319870 top5: 96.565186\n",
            " 82%|████████▏ | 2500/3045 [46:17<10:09,  1.12s/it][INFO]2019-04-27 19:28:10,507:main:i: 2500 loss: 0.490528 top1: 90.323074 top5: 96.568176\n",
            " 85%|████████▌ | 2600/3045 [48:08<08:12,  1.11s/it][INFO]2019-04-27 19:30:01,642:main:i: 2600 loss: 0.490513 top1: 90.325256 top5: 96.564011\n",
            " 89%|████████▊ | 2700/3045 [49:59<06:23,  1.11s/it][INFO]2019-04-27 19:31:52,395:main:i: 2700 loss: 0.490640 top1: 90.312103 top5: 96.565346\n",
            " 92%|█████████▏| 2800/3045 [51:50<04:31,  1.11s/it][INFO]2019-04-27 19:33:43,575:main:i: 2800 loss: 0.491082 top1: 90.292397 top5: 96.557655\n",
            " 95%|█████████▌| 2900/3045 [53:41<02:40,  1.11s/it][INFO]2019-04-27 19:35:34,241:main:i: 2900 loss: 0.491518 top1: 90.279556 top5: 96.549812\n",
            " 99%|█████████▊| 3000/3045 [55:31<00:49,  1.10s/it][INFO]2019-04-27 19:37:24,716:main:i: 3000 loss: 0.491288 top1: 90.284569 top5: 96.549484\n",
            "100%|██████████| 3045/3045 [56:21<00:00,  1.10s/it]\n",
            "[INFO]2019-04-27 19:38:13,569:main:Epoch 5/12 train loss 0.490568\n",
            "  0%|          | 0/339 [00:00<?, ?it/s][INFO]2019-04-27 19:38:18,724:main:i: 0 loss: 0.898411 top1: 85.000000 top5: 93.000000\n",
            " 29%|██▉       | 100/339 [01:00<02:03,  1.93it/s][INFO]2019-04-27 19:39:14,223:main:i: 100 loss: 0.720710 top1: 86.940590 top5: 93.841583\n",
            " 59%|█████▉    | 200/339 [01:55<00:55,  2.50it/s][INFO]2019-04-27 19:40:10,268:main:i: 200 loss: 0.733463 top1: 86.636818 top5: 93.606964\n",
            " 88%|████████▊ | 300/339 [02:51<00:24,  1.60it/s][INFO]2019-04-27 19:41:05,528:main:i: 300 loss: 0.727399 top1: 86.641190 top5: 93.611290\n",
            "100%|██████████| 339/339 [03:12<00:00,  3.32it/s]\n",
            "[INFO]2019-04-27 19:41:26,157:main:valid loss 0.723208\n"
          ],
          "name": "stderr"
        },
        {
          "output_type": "stream",
          "text": [
            "best score (86.691490) at epoch (5)\n"
          ],
          "name": "stdout"
        },
        {
          "output_type": "stream",
          "text": [
            "[INFO]2019-04-27 19:41:31,607:main:[Start] epoch: 6\n",
            "[INFO]2019-04-27 19:41:31,621:main:lr: 0.000050\n",
            "  0%|          | 0/3045 [00:00<?, ?it/s][INFO]2019-04-27 19:41:38,341:main:i: 0 loss: 0.417380 top1: 90.000000 top5: 97.000000\n",
            "  3%|▎         | 100/3045 [01:57<54:35,  1.11s/it][INFO]2019-04-27 19:43:29,974:main:i: 100 loss: 0.292039 top1: 94.485146 top5: 98.623764\n",
            "  7%|▋         | 200/3045 [03:48<52:16,  1.10s/it][INFO]2019-04-27 19:45:20,766:main:i: 200 loss: 0.282163 top1: 94.631844 top5: 98.577118\n",
            " 10%|▉         | 300/3045 [05:38<50:25,  1.10s/it][INFO]2019-04-27 19:47:11,278:main:i: 300 loss: 0.271241 top1: 94.823914 top5: 98.664444\n",
            " 13%|█▎        | 400/3045 [07:29<48:47,  1.11s/it][INFO]2019-04-27 19:49:02,064:main:i: 400 loss: 0.265956 top1: 94.815460 top5: 98.723190\n",
            " 16%|█▋        | 500/3045 [09:20<46:59,  1.11s/it][INFO]2019-04-27 19:50:52,890:main:i: 500 loss: 0.262964 top1: 94.864273 top5: 98.718567\n",
            " 20%|█▉        | 600/3045 [11:10<45:01,  1.10s/it][INFO]2019-04-27 19:52:43,383:main:i: 600 loss: 0.258327 top1: 94.938431 top5: 98.760399\n",
            " 23%|██▎       | 700/3045 [13:01<43:24,  1.11s/it][INFO]2019-04-27 19:54:34,535:main:i: 700 loss: 0.258960 top1: 94.931526 top5: 98.743225\n",
            " 26%|██▋       | 800/3045 [14:52<41:23,  1.11s/it][INFO]2019-04-27 19:56:25,155:main:i: 800 loss: 0.257479 top1: 94.982521 top5: 98.765297\n",
            " 30%|██▉       | 900/3045 [16:43<39:51,  1.12s/it][INFO]2019-04-27 19:58:16,026:main:i: 900 loss: 0.257159 top1: 95.003334 top5: 98.772476\n",
            " 33%|███▎      | 1000/3045 [18:33<37:46,  1.11s/it][INFO]2019-04-27 20:00:06,543:main:i: 1000 loss: 0.254243 top1: 95.077919 top5: 98.789207\n",
            " 36%|███▌      | 1100/3045 [20:24<36:06,  1.11s/it][INFO]2019-04-27 20:01:57,475:main:i: 1100 loss: 0.254173 top1: 95.065399 top5: 98.782021\n",
            " 39%|███▉      | 1200/3045 [22:15<34:15,  1.11s/it][INFO]2019-04-27 20:03:48,692:main:i: 1200 loss: 0.252744 top1: 95.074104 top5: 98.796837\n",
            " 43%|████▎     | 1300/3045 [24:07<32:21,  1.11s/it][INFO]2019-04-27 20:05:39,981:main:i: 1300 loss: 0.251907 top1: 95.091469 top5: 98.806305\n",
            " 46%|████▌     | 1400/3045 [25:58<30:23,  1.11s/it][INFO]2019-04-27 20:07:31,148:main:i: 1400 loss: 0.252049 top1: 95.087074 top5: 98.803711\n",
            " 49%|████▉     | 1500/3045 [27:49<28:27,  1.11s/it][INFO]2019-04-27 20:09:22,133:main:i: 1500 loss: 0.250681 top1: 95.115257 top5: 98.809456\n",
            " 53%|█████▎    | 1600/3045 [29:39<26:31,  1.10s/it][INFO]2019-04-27 20:11:12,681:main:i: 1600 loss: 0.250009 top1: 95.131798 top5: 98.806999\n",
            " 56%|█████▌    | 1700/3045 [31:30<24:42,  1.10s/it][INFO]2019-04-27 20:13:03,268:main:i: 1700 loss: 0.249742 top1: 95.136978 top5: 98.810112\n",
            " 59%|█████▉    | 1800/3045 [33:21<22:55,  1.10s/it][INFO]2019-04-27 20:14:53,778:main:i: 1800 loss: 0.248320 top1: 95.156586 top5: 98.817329\n",
            " 62%|██████▏   | 1900/3045 [35:11<21:05,  1.11s/it][INFO]2019-04-27 20:16:44,301:main:i: 1900 loss: 0.247926 top1: 95.159912 top5: 98.815880\n",
            " 66%|██████▌   | 2000/3045 [37:02<19:18,  1.11s/it][INFO]2019-04-27 20:18:34,920:main:i: 2000 loss: 0.247678 top1: 95.166412 top5: 98.814590\n",
            " 69%|██████▉   | 2100/3045 [38:53<17:21,  1.10s/it][INFO]2019-04-27 20:20:25,963:main:i: 2100 loss: 0.247793 top1: 95.163254 top5: 98.810562\n",
            " 72%|███████▏  | 2200/3045 [40:43<15:36,  1.11s/it][INFO]2019-04-27 20:22:16,351:main:i: 2200 loss: 0.247906 top1: 95.166740 top5: 98.806450\n",
            " 76%|███████▌  | 2300/3045 [42:34<13:48,  1.11s/it][INFO]2019-04-27 20:24:07,474:main:i: 2300 loss: 0.247661 top1: 95.168625 top5: 98.807915\n",
            " 79%|███████▉  | 2400/3045 [44:25<11:52,  1.10s/it][INFO]2019-04-27 20:25:58,264:main:i: 2400 loss: 0.247681 top1: 95.154106 top5: 98.801750\n",
            " 82%|████████▏ | 2500/3045 [46:16<10:01,  1.10s/it][INFO]2019-04-27 20:27:48,960:main:i: 2500 loss: 0.247049 top1: 95.159538 top5: 98.804077\n",
            " 85%|████████▌ | 2600/3045 [48:06<08:12,  1.11s/it][INFO]2019-04-27 20:29:39,659:main:i: 2600 loss: 0.246629 top1: 95.161476 top5: 98.805847\n",
            " 89%|████████▊ | 2700/3045 [49:57<06:23,  1.11s/it][INFO]2019-04-27 20:31:30,707:main:i: 2700 loss: 0.246837 top1: 95.155869 top5: 98.803032\n",
            " 92%|█████████▏| 2800/3045 [51:48<04:30,  1.10s/it][INFO]2019-04-27 20:33:21,137:main:i: 2800 loss: 0.246973 top1: 95.153870 top5: 98.800781\n",
            " 95%|█████████▌| 2900/3045 [53:39<02:41,  1.11s/it][INFO]2019-04-27 20:35:12,395:main:i: 2900 loss: 0.246666 top1: 95.151672 top5: 98.802483\n",
            " 99%|█████████▊| 3000/3045 [55:30<00:49,  1.10s/it][INFO]2019-04-27 20:37:03,244:main:i: 3000 loss: 0.246170 top1: 95.163277 top5: 98.802399\n",
            "100%|██████████| 3045/3045 [56:20<00:00,  1.10s/it]\n",
            "[INFO]2019-04-27 20:37:52,265:main:Epoch 6/12 train loss 0.246165\n",
            "  0%|          | 0/339 [00:00<?, ?it/s][INFO]2019-04-27 20:37:56,916:main:i: 0 loss: 0.678657 top1: 89.000000 top5: 95.000000\n",
            " 29%|██▉       | 100/339 [00:56<02:14,  1.78it/s][INFO]2019-04-27 20:38:49,090:main:i: 100 loss: 0.567822 top1: 89.752472 top5: 95.188118\n",
            " 59%|█████▉    | 200/339 [01:51<01:01,  2.26it/s][INFO]2019-04-27 20:39:44,110:main:i: 200 loss: 0.582351 top1: 89.462685 top5: 94.940300\n",
            " 88%|████████▊ | 300/339 [02:46<00:27,  1.42it/s][INFO]2019-04-27 20:40:39,302:main:i: 300 loss: 0.575675 top1: 89.485046 top5: 94.999992\n",
            "100%|██████████| 339/339 [03:05<00:00,  3.38it/s]\n",
            "[INFO]2019-04-27 20:40:57,711:main:valid loss 0.570754\n"
          ],
          "name": "stderr"
        },
        {
          "output_type": "stream",
          "text": [
            "best score (89.513344) at epoch (6)\n"
          ],
          "name": "stdout"
        },
        {
          "output_type": "stream",
          "text": [
            "[INFO]2019-04-27 20:41:02,987:main:[Start] epoch: 7\n",
            "[INFO]2019-04-27 20:41:02,999:main:lr: 0.000050\n",
            "  0%|          | 0/3045 [00:00<?, ?it/s][INFO]2019-04-27 20:41:10,202:main:i: 0 loss: 0.126812 top1: 98.000000 top5: 100.000000\n",
            "  3%|▎         | 100/3045 [01:57<54:35,  1.11s/it][INFO]2019-04-27 20:43:01,695:main:i: 100 loss: 0.161916 top1: 97.069305 top5: 99.514847\n",
            "  7%|▋         | 200/3045 [03:48<53:05,  1.12s/it][INFO]2019-04-27 20:44:52,984:main:i: 200 loss: 0.158640 top1: 97.159203 top5: 99.567169\n",
            " 10%|▉         | 300/3045 [05:39<50:40,  1.11s/it][INFO]2019-04-27 20:46:43,808:main:i: 300 loss: 0.161204 top1: 97.036537 top5: 99.521591\n",
            " 13%|█▎        | 400/3045 [07:30<49:14,  1.12s/it][INFO]2019-04-27 20:48:34,791:main:i: 400 loss: 0.160626 top1: 97.044884 top5: 99.516205\n",
            " 16%|█▋        | 500/3045 [09:21<46:59,  1.11s/it][INFO]2019-04-27 20:50:25,521:main:i: 500 loss: 0.162406 top1: 97.045906 top5: 99.495010\n",
            " 20%|█▉        | 600/3045 [11:11<45:10,  1.11s/it][INFO]2019-04-27 20:52:15,914:main:i: 600 loss: 0.162487 top1: 96.986687 top5: 99.499168\n",
            " 23%|██▎       | 700/3045 [13:02<43:25,  1.11s/it][INFO]2019-04-27 20:54:07,099:main:i: 700 loss: 0.163099 top1: 96.990013 top5: 99.480743\n",
            " 26%|██▋       | 800/3045 [14:53<41:09,  1.10s/it][INFO]2019-04-27 20:55:57,890:main:i: 800 loss: 0.163327 top1: 96.966293 top5: 99.474411\n",
            " 30%|██▉       | 900/3045 [16:44<39:46,  1.11s/it][INFO]2019-04-27 20:57:48,559:main:i: 900 loss: 0.164084 top1: 96.930077 top5: 99.463928\n",
            " 33%|███▎      | 1000/3045 [18:35<37:41,  1.11s/it][INFO]2019-04-27 20:59:39,488:main:i: 1000 loss: 0.164783 top1: 96.930069 top5: 99.454544\n",
            " 36%|███▌      | 1100/3045 [20:26<35:51,  1.11s/it][INFO]2019-04-27 21:01:30,248:main:i: 1100 loss: 0.166611 top1: 96.877388 top5: 99.445053\n",
            " 39%|███▉      | 1200/3045 [22:16<34:04,  1.11s/it][INFO]2019-04-27 21:03:20,873:main:i: 1200 loss: 0.167298 top1: 96.855957 top5: 99.435471\n",
            " 43%|████▎     | 1300/3045 [24:07<32:04,  1.10s/it][INFO]2019-04-27 21:05:11,757:main:i: 1300 loss: 0.167888 top1: 96.837051 top5: 99.434280\n",
            " 46%|████▌     | 1400/3045 [25:58<30:20,  1.11s/it][INFO]2019-04-27 21:07:02,695:main:i: 1400 loss: 0.169725 top1: 96.778725 top5: 99.421837\n",
            " 49%|████▉     | 1500/3045 [27:49<28:23,  1.10s/it][INFO]2019-04-27 21:08:53,522:main:i: 1500 loss: 0.169601 top1: 96.767487 top5: 99.429710\n",
            " 53%|█████▎    | 1600/3045 [29:39<26:41,  1.11s/it][INFO]2019-04-27 21:10:43,986:main:i: 1600 loss: 0.170394 top1: 96.755157 top5: 99.413490\n",
            " 56%|█████▌    | 1700/3045 [31:30<24:55,  1.11s/it][INFO]2019-04-27 21:12:34,660:main:i: 1700 loss: 0.170334 top1: 96.752495 top5: 99.412697\n",
            " 59%|█████▉    | 1800/3045 [33:21<23:05,  1.11s/it][INFO]2019-04-27 21:14:25,741:main:i: 1800 loss: 0.171058 top1: 96.737930 top5: 99.406448\n",
            " 62%|██████▏   | 1900/3045 [35:12<21:00,  1.10s/it][INFO]2019-04-27 21:16:16,553:main:i: 1900 loss: 0.171300 top1: 96.731194 top5: 99.403992\n",
            " 66%|██████▌   | 2000/3045 [37:02<19:13,  1.10s/it][INFO]2019-04-27 21:18:06,993:main:i: 2000 loss: 0.171230 top1: 96.738129 top5: 99.400795\n",
            " 69%|██████▉   | 2100/3045 [38:53<17:30,  1.11s/it][INFO]2019-04-27 21:19:57,809:main:i: 2100 loss: 0.171956 top1: 96.713470 top5: 99.394096\n",
            " 72%|███████▏  | 2200/3045 [40:44<15:39,  1.11s/it][INFO]2019-04-27 21:21:48,926:main:i: 2200 loss: 0.172562 top1: 96.703316 top5: 99.387550\n",
            " 76%|███████▌  | 2300/3045 [42:35<13:45,  1.11s/it][INFO]2019-04-27 21:23:39,558:main:i: 2300 loss: 0.173079 top1: 96.685791 top5: 99.383316\n",
            " 79%|███████▉  | 2400/3045 [44:25<11:53,  1.11s/it][INFO]2019-04-27 21:25:29,961:main:i: 2400 loss: 0.173406 top1: 96.671806 top5: 99.382759\n",
            " 82%|████████▏ | 2500/3045 [46:16<10:04,  1.11s/it][INFO]2019-04-27 21:27:20,775:main:i: 2500 loss: 0.173727 top1: 96.658134 top5: 99.385048\n",
            " 85%|████████▌ | 2600/3045 [48:07<08:11,  1.10s/it][INFO]2019-04-27 21:29:11,718:main:i: 2600 loss: 0.173674 top1: 96.667435 top5: 99.383698\n",
            " 89%|████████▊ | 2700/3045 [49:58<06:21,  1.11s/it][INFO]2019-04-27 21:31:02,233:main:i: 2700 loss: 0.174296 top1: 96.650497 top5: 99.372086\n",
            " 92%|█████████▏| 2800/3045 [51:48<04:32,  1.11s/it][INFO]2019-04-27 21:32:53,107:main:i: 2800 loss: 0.174587 top1: 96.641556 top5: 99.367722\n",
            " 95%|█████████▌| 2900/3045 [53:39<02:40,  1.11s/it][INFO]2019-04-27 21:34:43,667:main:i: 2900 loss: 0.174945 top1: 96.634262 top5: 99.358841\n",
            " 99%|█████████▊| 3000/3045 [55:30<00:50,  1.11s/it][INFO]2019-04-27 21:36:34,577:main:i: 3000 loss: 0.175178 top1: 96.630791 top5: 99.354546\n",
            "100%|██████████| 3045/3045 [56:20<00:00,  1.11s/it]\n",
            "[INFO]2019-04-27 21:37:23,694:main:Epoch 7/12 train loss 0.175464\n",
            "  0%|          | 0/339 [00:00<?, ?it/s][INFO]2019-04-27 21:37:28,403:main:i: 0 loss: 0.715017 top1: 89.000000 top5: 95.000000\n",
            " 29%|██▉       | 100/339 [00:56<02:20,  1.70it/s][INFO]2019-04-27 21:38:20,627:main:i: 100 loss: 0.540856 top1: 90.000000 top5: 95.475243\n",
            " 59%|█████▉    | 200/339 [01:48<01:03,  2.20it/s][INFO]2019-04-27 21:39:12,196:main:i: 200 loss: 0.552873 top1: 89.771149 top5: 95.278610\n",
            " 88%|████████▊ | 300/339 [02:40<00:24,  1.62it/s][INFO]2019-04-27 21:40:04,986:main:i: 300 loss: 0.546743 top1: 89.847176 top5: 95.362122\n",
            "100%|██████████| 339/339 [02:58<00:00,  3.42it/s]\n",
            "[INFO]2019-04-27 21:40:22,540:main:valid loss 0.541575\n"
          ],
          "name": "stderr"
        },
        {
          "output_type": "stream",
          "text": [
            "best score (89.859055) at epoch (7)\n"
          ],
          "name": "stdout"
        },
        {
          "output_type": "stream",
          "text": [
            "[INFO]2019-04-27 21:40:27,898:main:[Start] epoch: 8\n",
            "[INFO]2019-04-27 21:40:27,900:main:lr: 0.000025\n",
            "  0%|          | 0/3045 [00:00<?, ?it/s][INFO]2019-04-27 21:40:34,244:main:i: 0 loss: 0.101510 top1: 100.000000 top5: 100.000000\n",
            "  3%|▎         | 100/3045 [01:56<54:32,  1.11s/it][INFO]2019-04-27 21:42:25,742:main:i: 100 loss: 0.114358 top1: 97.871284 top5: 99.782173\n",
            "  7%|▋         | 200/3045 [03:47<52:31,  1.11s/it][INFO]2019-04-27 21:44:16,290:main:i: 200 loss: 0.106690 top1: 98.094528 top5: 99.815926\n",
            " 10%|▉         | 300/3045 [05:38<50:53,  1.11s/it][INFO]2019-04-27 21:46:07,371:main:i: 300 loss: 0.104842 top1: 98.162788 top5: 99.820595\n",
            " 13%|█▎        | 400/3045 [07:29<48:41,  1.10s/it][INFO]2019-04-27 21:47:58,201:main:i: 400 loss: 0.102911 top1: 98.172066 top5: 99.820450\n",
            " 16%|█▋        | 500/3045 [09:19<46:56,  1.11s/it][INFO]2019-04-27 21:49:48,725:main:i: 500 loss: 0.102112 top1: 98.175652 top5: 99.824348\n",
            " 20%|█▉        | 600/3045 [11:10<44:58,  1.10s/it][INFO]2019-04-27 21:51:39,332:main:i: 600 loss: 0.101132 top1: 98.224625 top5: 99.820297\n",
            " 23%|██▎       | 700/3045 [13:01<43:23,  1.11s/it][INFO]2019-04-27 21:53:30,353:main:i: 700 loss: 0.101688 top1: 98.212555 top5: 99.808846\n",
            " 26%|██▋       | 800/3045 [14:52<41:12,  1.10s/it][INFO]2019-04-27 21:55:21,044:main:i: 800 loss: 0.101680 top1: 98.197250 top5: 99.799004\n",
            " 30%|██▉       | 900/3045 [16:42<39:46,  1.11s/it][INFO]2019-04-27 21:57:11,869:main:i: 900 loss: 0.101879 top1: 98.178696 top5: 99.791344\n",
            " 33%|███▎      | 1000/3045 [18:33<37:45,  1.11s/it][INFO]2019-04-27 21:59:02,864:main:i: 1000 loss: 0.101752 top1: 98.180817 top5: 99.788208\n",
            " 36%|███▌      | 1100/3045 [20:24<35:59,  1.11s/it][INFO]2019-04-27 22:00:53,360:main:i: 1100 loss: 0.100412 top1: 98.214355 top5: 99.793831\n",
            " 39%|███▉      | 1200/3045 [22:15<34:07,  1.11s/it][INFO]2019-04-27 22:02:44,546:main:i: 1200 loss: 0.100602 top1: 98.204002 top5: 99.791840\n",
            " 43%|████▎     | 1300/3045 [24:06<31:59,  1.10s/it][INFO]2019-04-27 22:04:35,102:main:i: 1300 loss: 0.101055 top1: 98.195236 top5: 99.782478\n",
            " 46%|████▌     | 1400/3045 [25:56<30:22,  1.11s/it][INFO]2019-04-27 22:06:25,795:main:i: 1400 loss: 0.100821 top1: 98.199142 top5: 99.782295\n",
            " 49%|████▉     | 1500/3045 [27:47<28:29,  1.11s/it][INFO]2019-04-27 22:08:16,719:main:i: 1500 loss: 0.100540 top1: 98.197868 top5: 99.784142\n",
            " 53%|█████▎    | 1600/3045 [29:38<26:40,  1.11s/it][INFO]2019-04-27 22:10:07,118:main:i: 1600 loss: 0.100296 top1: 98.205498 top5: 99.782639\n",
            " 56%|█████▌    | 1700/3045 [31:28<24:41,  1.10s/it][INFO]2019-04-27 22:11:57,541:main:i: 1700 loss: 0.100487 top1: 98.199883 top5: 99.778954\n",
            " 59%|█████▉    | 1800/3045 [33:19<23:00,  1.11s/it][INFO]2019-04-27 22:13:48,046:main:i: 1800 loss: 0.100227 top1: 98.203781 top5: 99.781235\n",
            " 62%|██████▏   | 1900/3045 [35:09<21:03,  1.10s/it][INFO]2019-04-27 22:15:38,842:main:i: 1900 loss: 0.100054 top1: 98.201996 top5: 99.779060\n",
            " 66%|██████▌   | 2000/3045 [37:00<19:15,  1.11s/it][INFO]2019-04-27 22:17:29,342:main:i: 2000 loss: 0.100112 top1: 98.201897 top5: 99.778610\n",
            " 69%|██████▉   | 2100/3045 [38:50<17:24,  1.11s/it][INFO]2019-04-27 22:19:19,827:main:i: 2100 loss: 0.100014 top1: 98.197998 top5: 99.777725\n",
            " 72%|███████▏  | 2200/3045 [40:41<15:31,  1.10s/it][INFO]2019-04-27 22:21:10,141:main:i: 2200 loss: 0.099830 top1: 98.196274 top5: 99.778282\n",
            " 76%|███████▌  | 2300/3045 [42:31<13:47,  1.11s/it][INFO]2019-04-27 22:23:00,978:main:i: 2300 loss: 0.099444 top1: 98.202087 top5: 99.780533\n",
            " 79%|███████▉  | 2400/3045 [44:22<11:53,  1.11s/it][INFO]2019-04-27 22:24:51,736:main:i: 2400 loss: 0.099296 top1: 98.210335 top5: 99.778847\n",
            " 82%|████████▏ | 2500/3045 [46:13<10:00,  1.10s/it][INFO]2019-04-27 22:26:42,555:main:i: 2500 loss: 0.099290 top1: 98.206314 top5: 99.778885\n",
            " 85%|████████▌ | 2600/3045 [48:04<08:14,  1.11s/it][INFO]2019-04-27 22:28:33,545:main:i: 2600 loss: 0.099372 top1: 98.203384 top5: 99.775856\n",
            " 89%|████████▊ | 2700/3045 [49:55<06:21,  1.10s/it][INFO]2019-04-27 22:30:24,235:main:i: 2700 loss: 0.099319 top1: 98.203995 top5: 99.776375\n",
            " 92%|█████████▏| 2800/3045 [51:46<04:30,  1.11s/it][INFO]2019-04-27 22:32:15,110:main:i: 2800 loss: 0.099211 top1: 98.202423 top5: 99.777222\n",
            " 95%|█████████▌| 2900/3045 [53:36<02:40,  1.11s/it][INFO]2019-04-27 22:34:05,828:main:i: 2900 loss: 0.099213 top1: 98.199242 top5: 99.776978\n",
            " 99%|█████████▊| 3000/3045 [55:28<00:50,  1.11s/it][INFO]2019-04-27 22:35:57,088:main:i: 3000 loss: 0.099451 top1: 98.190269 top5: 99.775406\n",
            "100%|██████████| 3045/3045 [56:18<00:00,  1.10s/it]\n",
            "[INFO]2019-04-27 22:36:46,376:main:Epoch 8/12 train loss 0.099464\n",
            "  0%|          | 0/339 [00:00<?, ?it/s][INFO]2019-04-27 22:36:51,202:main:i: 0 loss: 0.681575 top1: 91.000000 top5: 95.000000\n",
            " 29%|██▉       | 100/339 [00:57<01:54,  2.09it/s][INFO]2019-04-27 22:37:43,743:main:i: 100 loss: 0.484788 top1: 91.356438 top5: 95.900986\n",
            " 59%|█████▉    | 200/339 [01:49<00:57,  2.43it/s][INFO]2019-04-27 22:38:38,484:main:i: 200 loss: 0.496552 top1: 91.009949 top5: 95.810944\n",
            " 88%|████████▊ | 300/339 [02:44<00:25,  1.55it/s][INFO]2019-04-27 22:39:30,997:main:i: 300 loss: 0.489508 top1: 90.930229 top5: 95.887039\n",
            "100%|██████████| 339/339 [03:03<00:00,  3.44it/s]\n",
            "[INFO]2019-04-27 22:39:50,572:main:valid loss 0.483769\n"
          ],
          "name": "stderr"
        },
        {
          "output_type": "stream",
          "text": [
            "best score (90.981888) at epoch (8)\n"
          ],
          "name": "stdout"
        },
        {
          "output_type": "stream",
          "text": [
            "[INFO]2019-04-27 22:39:55,687:main:[Start] epoch: 9\n",
            "[INFO]2019-04-27 22:39:55,692:main:lr: 0.000025\n",
            "  0%|          | 0/3045 [00:00<?, ?it/s][INFO]2019-04-27 22:40:02,649:main:i: 0 loss: 0.039034 top1: 100.000000 top5: 100.000000\n",
            "  3%|▎         | 100/3045 [01:57<54:27,  1.11s/it][INFO]2019-04-27 22:41:54,206:main:i: 100 loss: 0.073713 top1: 98.673264 top5: 99.881187\n",
            "  7%|▋         | 200/3045 [03:48<53:00,  1.12s/it][INFO]2019-04-27 22:43:45,047:main:i: 200 loss: 0.073308 top1: 98.766174 top5: 99.910446\n",
            " 10%|▉         | 300/3045 [05:39<50:40,  1.11s/it][INFO]2019-04-27 22:45:36,075:main:i: 300 loss: 0.072958 top1: 98.823914 top5: 99.903648\n",
            " 13%|█▎        | 400/3045 [07:29<48:50,  1.11s/it][INFO]2019-04-27 22:47:26,689:main:i: 400 loss: 0.073166 top1: 98.778053 top5: 99.905235\n",
            " 16%|█▋        | 500/3045 [09:20<46:43,  1.10s/it][INFO]2019-04-27 22:49:17,175:main:i: 500 loss: 0.072432 top1: 98.782433 top5: 99.902199\n",
            " 20%|█▉        | 600/3045 [11:10<44:59,  1.10s/it][INFO]2019-04-27 22:51:07,551:main:i: 600 loss: 0.073483 top1: 98.748749 top5: 99.898499\n",
            " 23%|██▎       | 700/3045 [13:01<43:03,  1.10s/it][INFO]2019-04-27 22:52:57,965:main:i: 700 loss: 0.073402 top1: 98.738945 top5: 99.895866\n",
            " 26%|██▋       | 800/3045 [14:51<41:14,  1.10s/it][INFO]2019-04-27 22:54:48,391:main:i: 800 loss: 0.072952 top1: 98.766541 top5: 99.901375\n",
            " 30%|██▉       | 900/3045 [16:42<39:45,  1.11s/it][INFO]2019-04-27 22:56:39,195:main:i: 900 loss: 0.073678 top1: 98.735855 top5: 99.899002\n",
            " 33%|███▎      | 1000/3045 [18:33<37:44,  1.11s/it][INFO]2019-04-27 22:58:29,946:main:i: 1000 loss: 0.073872 top1: 98.743256 top5: 99.891106\n",
            " 36%|███▌      | 1100/3045 [20:23<35:58,  1.11s/it][INFO]2019-04-27 23:00:20,562:main:i: 1100 loss: 0.073913 top1: 98.738426 top5: 99.890106\n",
            " 39%|███▉      | 1200/3045 [22:14<33:57,  1.10s/it][INFO]2019-04-27 23:02:11,459:main:i: 1200 loss: 0.073766 top1: 98.731064 top5: 99.890930\n",
            " 43%|████▎     | 1300/3045 [24:05<32:16,  1.11s/it][INFO]2019-04-27 23:04:02,443:main:i: 1300 loss: 0.073939 top1: 98.724831 top5: 99.887779\n",
            " 46%|████▌     | 1400/3045 [25:56<30:19,  1.11s/it][INFO]2019-04-27 23:05:53,197:main:i: 1400 loss: 0.074542 top1: 98.715202 top5: 99.882935\n",
            " 49%|████▉     | 1500/3045 [27:47<28:31,  1.11s/it][INFO]2019-04-27 23:07:44,123:main:i: 1500 loss: 0.074628 top1: 98.702866 top5: 99.880745\n",
            " 53%|█████▎    | 1600/3045 [29:38<26:40,  1.11s/it][INFO]2019-04-27 23:09:34,822:main:i: 1600 loss: 0.074995 top1: 98.690819 top5: 99.881325\n",
            " 56%|█████▌    | 1700/3045 [31:28<24:44,  1.10s/it][INFO]2019-04-27 23:11:25,266:main:i: 1700 loss: 0.074865 top1: 98.698997 top5: 99.880653\n",
            " 59%|█████▉    | 1800/3045 [33:19<23:06,  1.11s/it][INFO]2019-04-27 23:13:16,209:main:i: 1800 loss: 0.074829 top1: 98.697952 top5: 99.881737\n",
            " 62%|██████▏   | 1900/3045 [35:10<21:08,  1.11s/it][INFO]2019-04-27 23:15:07,080:main:i: 1900 loss: 0.075259 top1: 98.687531 top5: 99.881111\n",
            " 66%|██████▌   | 2000/3045 [37:00<19:19,  1.11s/it][INFO]2019-04-27 23:16:57,694:main:i: 2000 loss: 0.075302 top1: 98.687653 top5: 99.881554\n",
            " 69%|██████▉   | 2100/3045 [38:51<17:28,  1.11s/it][INFO]2019-04-27 23:18:48,717:main:i: 2100 loss: 0.075225 top1: 98.691093 top5: 99.882912\n",
            " 72%|███████▏  | 2200/3045 [40:42<15:30,  1.10s/it][INFO]2019-04-27 23:20:39,241:main:i: 2200 loss: 0.075418 top1: 98.686958 top5: 99.883240\n",
            " 76%|███████▌  | 2300/3045 [42:33<13:46,  1.11s/it][INFO]2019-04-27 23:22:30,161:main:i: 2300 loss: 0.075946 top1: 98.670151 top5: 99.881798\n",
            " 79%|███████▉  | 2400/3045 [44:24<11:53,  1.11s/it][INFO]2019-04-27 23:24:21,037:main:i: 2400 loss: 0.075996 top1: 98.670555 top5: 99.880470\n",
            " 82%|████████▏ | 2500/3045 [46:14<10:03,  1.11s/it][INFO]2019-04-27 23:26:11,483:main:i: 2500 loss: 0.075857 top1: 98.674133 top5: 99.880447\n",
            " 85%|████████▌ | 2600/3045 [48:05<08:14,  1.11s/it][INFO]2019-04-27 23:28:02,407:main:i: 2600 loss: 0.076093 top1: 98.665512 top5: 99.879662\n",
            " 89%|████████▊ | 2700/3045 [49:56<06:19,  1.10s/it][INFO]2019-04-27 23:29:53,016:main:i: 2700 loss: 0.076337 top1: 98.652351 top5: 99.880409\n",
            " 92%|█████████▏| 2800/3045 [51:46<04:31,  1.11s/it][INFO]2019-04-27 23:31:43,497:main:i: 2800 loss: 0.076496 top1: 98.648697 top5: 99.878616\n",
            " 95%|█████████▌| 2900/3045 [53:37<02:40,  1.11s/it][INFO]2019-04-27 23:33:34,515:main:i: 2900 loss: 0.076744 top1: 98.641502 top5: 99.879005\n",
            " 99%|█████████▊| 3000/3045 [55:28<00:49,  1.10s/it][INFO]2019-04-27 23:35:25,273:main:i: 3000 loss: 0.077059 top1: 98.634789 top5: 99.877045\n",
            "100%|██████████| 3045/3045 [56:18<00:00,  1.10s/it]\n",
            "[INFO]2019-04-27 23:36:14,259:main:Epoch 9/12 train loss 0.077191\n",
            "  0%|          | 0/339 [00:00<?, ?it/s][INFO]2019-04-27 23:36:19,342:main:i: 0 loss: 0.630654 top1: 92.000000 top5: 95.000000\n",
            " 29%|██▉       | 100/339 [00:56<02:01,  1.97it/s][INFO]2019-04-27 23:37:11,222:main:i: 100 loss: 0.476622 top1: 91.465347 top5: 96.069305\n",
            " 59%|█████▉    | 200/339 [01:50<00:52,  2.63it/s][INFO]2019-04-27 23:38:06,248:main:i: 200 loss: 0.484801 top1: 91.189056 top5: 96.029854\n",
            " 88%|████████▊ | 300/339 [02:44<00:19,  1.98it/s][INFO]2019-04-27 23:38:58,824:main:i: 300 loss: 0.478860 top1: 91.116272 top5: 96.029900\n",
            "100%|██████████| 339/339 [03:03<00:00,  3.43it/s]\n",
            "[INFO]2019-04-27 23:39:17,705:main:valid loss 0.473065\n"
          ],
          "name": "stderr"
        },
        {
          "output_type": "stream",
          "text": [
            "best score (91.182816) at epoch (9)\n"
          ],
          "name": "stdout"
        },
        {
          "output_type": "stream",
          "text": [
            "[INFO]2019-04-27 23:39:23,173:main:[Start] epoch: 10\n",
            "[INFO]2019-04-27 23:39:23,175:main:lr: 0.000013\n",
            "  0%|          | 0/3045 [00:00<?, ?it/s][INFO]2019-04-27 23:39:28,991:main:i: 0 loss: 0.057781 top1: 100.000000 top5: 100.000000\n",
            "  3%|▎         | 100/3045 [01:56<54:43,  1.11s/it][INFO]2019-04-27 23:41:20,560:main:i: 100 loss: 0.061301 top1: 99.000000 top5: 99.970299\n",
            "  7%|▋         | 200/3045 [03:47<52:24,  1.11s/it][INFO]2019-04-27 23:43:11,402:main:i: 200 loss: 0.057868 top1: 99.014931 top5: 99.970154\n",
            " 10%|▉         | 300/3045 [05:38<50:52,  1.11s/it][INFO]2019-04-27 23:45:02,315:main:i: 300 loss: 0.057956 top1: 98.996674 top5: 99.960129\n",
            " 13%|█▎        | 400/3045 [07:28<48:56,  1.11s/it][INFO]2019-04-27 23:46:53,194:main:i: 400 loss: 0.056483 top1: 99.019951 top5: 99.957603\n",
            " 16%|█▋        | 500/3045 [09:19<46:52,  1.11s/it][INFO]2019-04-27 23:48:43,582:main:i: 500 loss: 0.055454 top1: 99.057884 top5: 99.964073\n",
            " 20%|█▉        | 600/3045 [11:09<45:07,  1.11s/it][INFO]2019-04-27 23:50:34,076:main:i: 600 loss: 0.055181 top1: 99.056572 top5: 99.965057\n",
            " 23%|██▎       | 700/3045 [13:00<43:24,  1.11s/it][INFO]2019-04-27 23:52:25,196:main:i: 700 loss: 0.054482 top1: 99.074181 top5: 99.960060\n",
            " 23%|██▎       | 703/3045 [13:04<43:26,  1.11s/it]"
          ],
          "name": "stderr"
        }
      ]
    },
    {
      "metadata": {
        "id": "Xc807qKVw6hU",
        "colab_type": "text"
      },
      "cell_type": "markdown",
      "source": [
        "### prediction"
      ]
    },
    {
      "metadata": {
        "id": "7vpb33qAj3MC",
        "colab_type": "code",
        "colab": {
          "base_uri": "https://localhost:8080/",
          "height": 202
        },
        "outputId": "25b9e3aa-84b7-4348-e765-3884cb13c581"
      },
      "cell_type": "code",
      "source": [
        "df_test_all = pd.read_csv(TEST_PATH, dtype={'id': 'object'})\n",
        "df_test_all.head()"
      ],
      "execution_count": 18,
      "outputs": [
        {
          "output_type": "execute_result",
          "data": {
            "text/html": [
              "<div>\n",
              "<style scoped>\n",
              "    .dataframe tbody tr th:only-of-type {\n",
              "        vertical-align: middle;\n",
              "    }\n",
              "\n",
              "    .dataframe tbody tr th {\n",
              "        vertical-align: top;\n",
              "    }\n",
              "\n",
              "    .dataframe thead th {\n",
              "        text-align: right;\n",
              "    }\n",
              "</style>\n",
              "<table border=\"1\" class=\"dataframe\">\n",
              "  <thead>\n",
              "    <tr style=\"text-align: right;\">\n",
              "      <th></th>\n",
              "      <th>id</th>\n",
              "      <th>url</th>\n",
              "    </tr>\n",
              "  </thead>\n",
              "  <tbody>\n",
              "    <tr>\n",
              "      <th>0</th>\n",
              "      <td>cb9998b8cdaf6235</td>\n",
              "      <td>https://lh3.googleusercontent.com/-q8B91vDIQZY...</td>\n",
              "    </tr>\n",
              "    <tr>\n",
              "      <th>1</th>\n",
              "      <td>30728cf6e50a6bc6</td>\n",
              "      <td>https://lh3.googleusercontent.com/-91gJSKTgv5Q...</td>\n",
              "    </tr>\n",
              "    <tr>\n",
              "      <th>2</th>\n",
              "      <td>16afbc86b710337d</td>\n",
              "      <td>https://lh3.googleusercontent.com/-GHZdXuf2wMg...</td>\n",
              "    </tr>\n",
              "    <tr>\n",
              "      <th>3</th>\n",
              "      <td>d29b2166cf522450</td>\n",
              "      <td>https://lh3.googleusercontent.com/-cWDnYNQhyws...</td>\n",
              "    </tr>\n",
              "    <tr>\n",
              "      <th>4</th>\n",
              "      <td>dd5c03b20c21cfba</td>\n",
              "      <td>https://lh3.googleusercontent.com/-PSLN6BloM-k...</td>\n",
              "    </tr>\n",
              "  </tbody>\n",
              "</table>\n",
              "</div>"
            ],
            "text/plain": [
              "                 id                                                url\n",
              "0  cb9998b8cdaf6235  https://lh3.googleusercontent.com/-q8B91vDIQZY...\n",
              "1  30728cf6e50a6bc6  https://lh3.googleusercontent.com/-91gJSKTgv5Q...\n",
              "2  16afbc86b710337d  https://lh3.googleusercontent.com/-GHZdXuf2wMg...\n",
              "3  d29b2166cf522450  https://lh3.googleusercontent.com/-cWDnYNQhyws...\n",
              "4  dd5c03b20c21cfba  https://lh3.googleusercontent.com/-PSLN6BloM-k..."
            ]
          },
          "metadata": {
            "tags": []
          },
          "execution_count": 18
        }
      ]
    },
    {
      "metadata": {
        "id": "qbK7LyNrj8t4",
        "colab_type": "code",
        "colab": {
          "base_uri": "https://localhost:8080/",
          "height": 53
        },
        "outputId": "5a15e63c-6ea6-49b1-df91-e04c4f2db0fa"
      },
      "cell_type": "code",
      "source": [
        "df_test = get_exist_image(df_test_all, TEST_IMG_PATH)"
      ],
      "execution_count": 19,
      "outputs": [
        {
          "output_type": "stream",
          "text": [
            "100%|██████████| 256/256 [01:29<00:00,  2.86it/s]"
          ],
          "name": "stderr"
        },
        {
          "output_type": "stream",
          "text": [
            "exist images: 112857\n"
          ],
          "name": "stdout"
        },
        {
          "output_type": "stream",
          "text": [
            "\n"
          ],
          "name": "stderr"
        }
      ]
    },
    {
      "metadata": {
        "id": "kYrRy4RScvlS",
        "colab_type": "code",
        "colab": {}
      },
      "cell_type": "code",
      "source": [
        "test_dataset = LandmarkDataset(TEST_IMG_PATH, df_test, tst_trnsfms, is_train=False)\n",
        "label_encoder = joblib.load('analysis/landmark/models/20190427/le.pkl')"
      ],
      "execution_count": 0,
      "outputs": []
    },
    {
      "metadata": {
        "id": "_Gvqw8VvhWtO",
        "colab_type": "code",
        "colab": {
          "base_uri": "https://localhost:8080/",
          "height": 35
        },
        "outputId": "1c8fcc6d-e6c6-410a-ed56-4eb952e22d26"
      },
      "cell_type": "code",
      "source": [
        "len(label_encoder.classes_)"
      ],
      "execution_count": 21,
      "outputs": [
        {
          "output_type": "execute_result",
          "data": {
            "text/plain": [
              "14952"
            ]
          },
          "metadata": {
            "tags": []
          },
          "execution_count": 21
        }
      ]
    },
    {
      "metadata": {
        "id": "1_TBDnxiGvDd",
        "colab_type": "code",
        "colab": {
          "base_uri": "https://localhost:8080/",
          "height": 73
        },
        "outputId": "ef3e708e-c426-43a3-e9ac-466006c33808"
      },
      "cell_type": "code",
      "source": [
        "n_classes = len(label_encoder.classes_)\n",
        "# Model\n",
        "#model = DenseNet(output_neurons=latent_dim, n_classes=len(le.classes_),  dropout_rate=0.5).cuda()    \n",
        "model = ResNet(output_neurons=latent_dim, n_classes=n_classes, dropout_rate=0.5).cuda()    \n",
        "\n",
        "# Last Layer\n",
        "# metric_fc = ArcMarginProduct(latent_dim, n_classes, s=60, m=0.5, easy_margin=False).cuda()\n",
        "metric_fc = nn.Linear(latent_dim, n_classes).cuda()\n",
        "\n",
        "# Loss function\n",
        "criterion = nn.CrossEntropyLoss()\n",
        "# criterion = FocalLoss(gamma=2)\n",
        "\n",
        "# Optimizer\n",
        "optimizer = optim.Adam([{'params':model.parameters()}, {'params': metric_fc.parameters()}], lr=1e-4)\n",
        "# optimizer = optim.SGD([{'params':model.parameters()}, {'params': metric_fc.parameters()}], \n",
        "#                       lr=1e-3, momentum=0.9, weight_decay=1e-4)\n",
        "\n",
        "# Scheduler\n",
        "mile_stones = [5, 7, 9, 10, 11, 12]\n",
        "scheduler = optim.lr_scheduler.MultiStepLR(optimizer, mile_stones, gamma=0.5, last_epoch=-1)\n",
        "# scheduler_step = EPOCHS\n",
        "# scheduler = optim.lr_scheduler.CosineAnnealingLR(optimizer, scheduler_step, eta_min=1e-4)"
      ],
      "execution_count": 22,
      "outputs": [
        {
          "output_type": "stream",
          "text": [
            "Downloading: \"https://download.pytorch.org/models/resnet50-19c8e357.pth\" to /root/.torch/models/resnet50-19c8e357.pth\n",
            "102502400it [00:03, 26225889.55it/s]\n"
          ],
          "name": "stderr"
        }
      ]
    },
    {
      "metadata": {
        "id": "bIQ0_AanWPE7",
        "colab_type": "code",
        "colab": {}
      },
      "cell_type": "code",
      "source": [
        "# create model object before following statement\n",
        "start_epoch, model, metric_fc, optimizer, scheduler = load_checkpoint(model, \n",
        "                                                                      metric_fc,\n",
        "                                                                      optimizer,\n",
        "                                                                      scheduler, \n",
        "                                                                      'analysis/landmark/models/20190427/best_model.pth')"
      ],
      "execution_count": 0,
      "outputs": []
    },
    {
      "metadata": {
        "id": "DxxcCuStBbIh",
        "colab_type": "code",
        "colab": {
          "base_uri": "https://localhost:8080/",
          "height": 395
        },
        "outputId": "8ed5fd6f-0262-4341-a2b5-d7e8bb4a3adf"
      },
      "cell_type": "code",
      "source": [
        "predict_label(model, metric_fc, test_dataset, label_encoder)"
      ],
      "execution_count": 24,
      "outputs": [
        {
          "output_type": "stream",
          "text": [
            "[INFO]2019-04-28 01:57:38,019:main:prediction 1 / 10\n",
            "100%|██████████| 113/113 [06:40<00:00,  6.39s/it]\n",
            "[INFO]2019-04-28 02:04:19,438:main:prediction 2 / 10\n",
            "100%|██████████| 113/113 [06:35<00:00,  5.55s/it]\n",
            "[INFO]2019-04-28 02:10:56,268:main:prediction 3 / 10\n",
            "100%|██████████| 113/113 [06:40<00:00,  5.35s/it]\n",
            "[INFO]2019-04-28 02:17:38,385:main:prediction 4 / 10\n",
            "100%|██████████| 113/113 [06:40<00:00,  5.43s/it]\n",
            "[INFO]2019-04-28 02:24:20,233:main:prediction 5 / 10\n",
            "100%|██████████| 113/113 [06:43<00:00,  6.16s/it]\n",
            "[INFO]2019-04-28 02:31:04,784:main:prediction 6 / 10\n",
            "100%|██████████| 113/113 [06:34<00:00,  4.48s/it]\n",
            "[INFO]2019-04-28 02:37:40,687:main:prediction 7 / 10\n",
            "100%|██████████| 113/113 [06:34<00:00,  4.17s/it]\n",
            "[INFO]2019-04-28 02:44:16,985:main:prediction 8 / 10\n",
            "100%|██████████| 113/113 [06:40<00:00,  6.12s/it]\n",
            "[INFO]2019-04-28 02:50:58,323:main:prediction 9 / 10\n",
            "100%|██████████| 113/113 [06:37<00:00,  4.92s/it]\n",
            "[INFO]2019-04-28 02:57:36,648:main:prediction 10 / 10\n",
            "100%|██████████| 113/113 [06:34<00:00,  5.31s/it]\n",
            "[INFO]2019-04-28 03:04:12,730:main:created submission file\n"
          ],
          "name": "stderr"
        }
      ]
    },
    {
      "metadata": {
        "id": "nci2ykdwExk2",
        "colab_type": "code",
        "colab": {
          "base_uri": "https://localhost:8080/",
          "height": 35
        },
        "outputId": "68ac8772-e431-42f5-d7fe-0aed7635c057"
      },
      "cell_type": "code",
      "source": [
        "df_sub = pd.read_csv('submit_landmark.csv', dtype={'id': 'object'})\n",
        "df_sub.shape"
      ],
      "execution_count": 42,
      "outputs": [
        {
          "output_type": "execute_result",
          "data": {
            "text/plain": [
              "(112857, 2)"
            ]
          },
          "metadata": {
            "tags": []
          },
          "execution_count": 42
        }
      ]
    },
    {
      "metadata": {
        "id": "X5aTEO9kcipx",
        "colab_type": "code",
        "colab": {
          "base_uri": "https://localhost:8080/",
          "height": 35
        },
        "outputId": "cafa198d-fd0a-4538-b931-a62d9538036c"
      },
      "cell_type": "code",
      "source": [
        "df_test_all.shape"
      ],
      "execution_count": 43,
      "outputs": [
        {
          "output_type": "execute_result",
          "data": {
            "text/plain": [
              "(117703, 2)"
            ]
          },
          "metadata": {
            "tags": []
          },
          "execution_count": 43
        }
      ]
    },
    {
      "metadata": {
        "id": "jDEx58-1cshM",
        "colab_type": "code",
        "colab": {
          "base_uri": "https://localhost:8080/",
          "height": 202
        },
        "outputId": "1d12650a-75e2-47d7-b796-3b11f874fbc1"
      },
      "cell_type": "code",
      "source": [
        "df_sub.head()"
      ],
      "execution_count": 44,
      "outputs": [
        {
          "output_type": "execute_result",
          "data": {
            "text/html": [
              "<div>\n",
              "<style scoped>\n",
              "    .dataframe tbody tr th:only-of-type {\n",
              "        vertical-align: middle;\n",
              "    }\n",
              "\n",
              "    .dataframe tbody tr th {\n",
              "        vertical-align: top;\n",
              "    }\n",
              "\n",
              "    .dataframe thead th {\n",
              "        text-align: right;\n",
              "    }\n",
              "</style>\n",
              "<table border=\"1\" class=\"dataframe\">\n",
              "  <thead>\n",
              "    <tr style=\"text-align: right;\">\n",
              "      <th></th>\n",
              "      <th>id</th>\n",
              "      <th>landmarks</th>\n",
              "    </tr>\n",
              "  </thead>\n",
              "  <tbody>\n",
              "    <tr>\n",
              "      <th>0</th>\n",
              "      <td>cb9998b8cdaf6235</td>\n",
              "      <td>5263 21.851141</td>\n",
              "    </tr>\n",
              "    <tr>\n",
              "      <th>1</th>\n",
              "      <td>30728cf6e50a6bc6</td>\n",
              "      <td>9313 11.837427</td>\n",
              "    </tr>\n",
              "    <tr>\n",
              "      <th>2</th>\n",
              "      <td>16afbc86b710337d</td>\n",
              "      <td>2771 16.005356</td>\n",
              "    </tr>\n",
              "    <tr>\n",
              "      <th>3</th>\n",
              "      <td>d29b2166cf522450</td>\n",
              "      <td>6210 14.7506075</td>\n",
              "    </tr>\n",
              "    <tr>\n",
              "      <th>4</th>\n",
              "      <td>dd5c03b20c21cfba</td>\n",
              "      <td>13267 18.267174</td>\n",
              "    </tr>\n",
              "  </tbody>\n",
              "</table>\n",
              "</div>"
            ],
            "text/plain": [
              "                 id        landmarks\n",
              "0  cb9998b8cdaf6235   5263 21.851141\n",
              "1  30728cf6e50a6bc6   9313 11.837427\n",
              "2  16afbc86b710337d   2771 16.005356\n",
              "3  d29b2166cf522450  6210 14.7506075\n",
              "4  dd5c03b20c21cfba  13267 18.267174"
            ]
          },
          "metadata": {
            "tags": []
          },
          "execution_count": 44
        }
      ]
    },
    {
      "metadata": {
        "id": "NHg0WjmhgP0F",
        "colab_type": "code",
        "colab": {
          "base_uri": "https://localhost:8080/",
          "height": 202
        },
        "outputId": "0077371f-8bce-4fcf-e28f-835f01767fbe"
      },
      "cell_type": "code",
      "source": [
        "df_sub_sample = pd.read_csv(SUBMIT_PATH, dtype={'id': 'object'})\n",
        "del df_sub_sample['landmarks']\n",
        "df_sub_sample.head()"
      ],
      "execution_count": 45,
      "outputs": [
        {
          "output_type": "execute_result",
          "data": {
            "text/html": [
              "<div>\n",
              "<style scoped>\n",
              "    .dataframe tbody tr th:only-of-type {\n",
              "        vertical-align: middle;\n",
              "    }\n",
              "\n",
              "    .dataframe tbody tr th {\n",
              "        vertical-align: top;\n",
              "    }\n",
              "\n",
              "    .dataframe thead th {\n",
              "        text-align: right;\n",
              "    }\n",
              "</style>\n",
              "<table border=\"1\" class=\"dataframe\">\n",
              "  <thead>\n",
              "    <tr style=\"text-align: right;\">\n",
              "      <th></th>\n",
              "      <th>id</th>\n",
              "    </tr>\n",
              "  </thead>\n",
              "  <tbody>\n",
              "    <tr>\n",
              "      <th>0</th>\n",
              "      <td>b8a5057fdc51fb0a</td>\n",
              "    </tr>\n",
              "    <tr>\n",
              "      <th>1</th>\n",
              "      <td>a0ae5b40187f3e6e</td>\n",
              "    </tr>\n",
              "    <tr>\n",
              "      <th>2</th>\n",
              "      <td>8102cf887daa75b9</td>\n",
              "    </tr>\n",
              "    <tr>\n",
              "      <th>3</th>\n",
              "      <td>4ecb95f6b5bb1388</td>\n",
              "    </tr>\n",
              "    <tr>\n",
              "      <th>4</th>\n",
              "      <td>957bbc9b29ad7e6f</td>\n",
              "    </tr>\n",
              "  </tbody>\n",
              "</table>\n",
              "</div>"
            ],
            "text/plain": [
              "                 id\n",
              "0  b8a5057fdc51fb0a\n",
              "1  a0ae5b40187f3e6e\n",
              "2  8102cf887daa75b9\n",
              "3  4ecb95f6b5bb1388\n",
              "4  957bbc9b29ad7e6f"
            ]
          },
          "metadata": {
            "tags": []
          },
          "execution_count": 45
        }
      ]
    },
    {
      "metadata": {
        "id": "nfOhWMPpnvog",
        "colab_type": "code",
        "colab": {
          "base_uri": "https://localhost:8080/",
          "height": 35
        },
        "outputId": "89aec196-1f9d-408f-e829-8e1d855ec754"
      },
      "cell_type": "code",
      "source": [
        "df_sub2 = df_sub_sample.merge(df_sub, how='left', on='id')[['id', 'landmarks']]\n",
        "df_sub2.shape"
      ],
      "execution_count": 48,
      "outputs": [
        {
          "output_type": "execute_result",
          "data": {
            "text/plain": [
              "(117703, 2)"
            ]
          },
          "metadata": {
            "tags": []
          },
          "execution_count": 48
        }
      ]
    },
    {
      "metadata": {
        "id": "wG-pXdfxn-_F",
        "colab_type": "code",
        "colab": {
          "base_uri": "https://localhost:8080/",
          "height": 202
        },
        "outputId": "7057b5a1-00da-4a62-db77-1258c58b85ab"
      },
      "cell_type": "code",
      "source": [
        "df_sub2.head()"
      ],
      "execution_count": 49,
      "outputs": [
        {
          "output_type": "execute_result",
          "data": {
            "text/html": [
              "<div>\n",
              "<style scoped>\n",
              "    .dataframe tbody tr th:only-of-type {\n",
              "        vertical-align: middle;\n",
              "    }\n",
              "\n",
              "    .dataframe tbody tr th {\n",
              "        vertical-align: top;\n",
              "    }\n",
              "\n",
              "    .dataframe thead th {\n",
              "        text-align: right;\n",
              "    }\n",
              "</style>\n",
              "<table border=\"1\" class=\"dataframe\">\n",
              "  <thead>\n",
              "    <tr style=\"text-align: right;\">\n",
              "      <th></th>\n",
              "      <th>id</th>\n",
              "      <th>landmarks</th>\n",
              "    </tr>\n",
              "  </thead>\n",
              "  <tbody>\n",
              "    <tr>\n",
              "      <th>0</th>\n",
              "      <td>b8a5057fdc51fb0a</td>\n",
              "      <td>9571 20.401077</td>\n",
              "    </tr>\n",
              "    <tr>\n",
              "      <th>1</th>\n",
              "      <td>a0ae5b40187f3e6e</td>\n",
              "      <td>1203 14.675366</td>\n",
              "    </tr>\n",
              "    <tr>\n",
              "      <th>2</th>\n",
              "      <td>8102cf887daa75b9</td>\n",
              "      <td>2144 10.350692</td>\n",
              "    </tr>\n",
              "    <tr>\n",
              "      <th>3</th>\n",
              "      <td>4ecb95f6b5bb1388</td>\n",
              "      <td>6464 15.204096</td>\n",
              "    </tr>\n",
              "    <tr>\n",
              "      <th>4</th>\n",
              "      <td>957bbc9b29ad7e6f</td>\n",
              "      <td>2138 17.093632</td>\n",
              "    </tr>\n",
              "  </tbody>\n",
              "</table>\n",
              "</div>"
            ],
            "text/plain": [
              "                 id       landmarks\n",
              "0  b8a5057fdc51fb0a  9571 20.401077\n",
              "1  a0ae5b40187f3e6e  1203 14.675366\n",
              "2  8102cf887daa75b9  2144 10.350692\n",
              "3  4ecb95f6b5bb1388  6464 15.204096\n",
              "4  957bbc9b29ad7e6f  2138 17.093632"
            ]
          },
          "metadata": {
            "tags": []
          },
          "execution_count": 49
        }
      ]
    },
    {
      "metadata": {
        "id": "A-gb8p20oCf4",
        "colab_type": "code",
        "colab": {
          "base_uri": "https://localhost:8080/",
          "height": 35
        },
        "outputId": "a6439dd1-b26e-4a25-9c5f-4f57eef892ff"
      },
      "cell_type": "code",
      "source": [
        "df_sub2['landmarks'].fillna('', inplace=True)\n",
        "df_sub2['landmarks'].isnull().sum()"
      ],
      "execution_count": 50,
      "outputs": [
        {
          "output_type": "execute_result",
          "data": {
            "text/plain": [
              "0"
            ]
          },
          "metadata": {
            "tags": []
          },
          "execution_count": 50
        }
      ]
    },
    {
      "metadata": {
        "id": "Kyl1lq6NoS70",
        "colab_type": "code",
        "colab": {}
      },
      "cell_type": "code",
      "source": [
        "df_sub2.to_csv('submit_landmark2.csv', index=False)"
      ],
      "execution_count": 0,
      "outputs": []
    },
    {
      "metadata": {
        "id": "t513LvlOpHT4",
        "colab_type": "code",
        "colab": {}
      },
      "cell_type": "code",
      "source": [
        ""
      ],
      "execution_count": 0,
      "outputs": []
    }
  ]
}